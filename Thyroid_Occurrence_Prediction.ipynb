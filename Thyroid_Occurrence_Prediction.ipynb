{
  "nbformat": 4,
  "nbformat_minor": 0,
  "metadata": {
    "colab": {
      "name": "Thyroid Occurrence Prediction",
      "provenance": [],
      "collapsed_sections": [
        "estdnAu5abig",
        "cyXEMRJwbRB6",
        "27Ss70D4cJLj",
        "6cBfQbxIeSNt",
        "BFC7DbRSMjQI",
        "nfp-o1KKoXjy",
        "c_x1O5_5PtmO"
      ],
      "toc_visible": true,
      "authorship_tag": "ABX9TyMI5RvmbA3biLNbZHjDyU70",
      "include_colab_link": true
    },
    "kernelspec": {
      "name": "python3",
      "display_name": "Python 3"
    }
  },
  "cells": [
    {
      "cell_type": "markdown",
      "metadata": {
        "id": "view-in-github",
        "colab_type": "text"
      },
      "source": [
        "<a href=\"https://colab.research.google.com/github/EllieMwangi/thyroid-prediction/blob/main/Thyroid_Occurrence_Prediction.ipynb\" target=\"_parent\"><img src=\"https://colab.research.google.com/assets/colab-badge.svg\" alt=\"Open In Colab\"/></a>"
      ]
    },
    {
      "cell_type": "markdown",
      "metadata": {
        "id": "85mMBA3aaRwa"
      },
      "source": [
        "## Hypothyroidism prediction"
      ]
    },
    {
      "cell_type": "markdown",
      "metadata": {
        "id": "estdnAu5abig"
      },
      "source": [
        "### Specify Analysis Question\n",
        "\n",
        "1. Build a classification model that predicts whether a patient has a hypothyroidism or not. The model will specically be built using ensemble decision trees and support vector machines and performance compared."
      ]
    },
    {
      "cell_type": "markdown",
      "metadata": {
        "id": "cyXEMRJwbRB6"
      },
      "source": [
        "### Metrics for Success\n",
        "1. Identify which measurements are most important in identifying the presence of hypothyroidism.\n",
        "2. A high accuracy and roc_auc score. At least 90%"
      ]
    },
    {
      "cell_type": "markdown",
      "metadata": {
        "id": "27Ss70D4cJLj"
      },
      "source": [
        "### Understanding the Context\n",
        "The data used in this project was collected during a clinical camp conducted by Nairobi hospital to test for hypothyroidism. The data collected focused on thyroid patients. "
      ]
    },
    {
      "cell_type": "markdown",
      "metadata": {
        "id": "6cBfQbxIeSNt"
      },
      "source": [
        "### Recording of Experimental design.\n",
        "\n",
        "1. Data loading\n",
        "2. Detection and handling of missing values.\n",
        "3. Type conversion.\n",
        "4. Outlier detection.\n",
        "5. Splitting data\n",
        "6. Modelling using decision trees\n",
        "7. Hyperparameter tuning \n",
        "8. Feature importance ranking\n",
        "9. Modelling using svm\n",
        "10. Hyperparameter tuning\n",
        "11. Results and conclusion.\n",
        "12. Challenging the solution"
      ]
    },
    {
      "cell_type": "markdown",
      "metadata": {
        "id": "BFC7DbRSMjQI"
      },
      "source": [
        "### Data Exploration and Cleaning"
      ]
    },
    {
      "cell_type": "code",
      "metadata": {
        "id": "O7vRYg1aMfSn"
      },
      "source": [
        "# Import Libraries\n",
        "import pandas as pd\n",
        "import numpy as np\n",
        "import matplotlib.pyplot as plt\n",
        "import seaborn as sns\n",
        "from sklearn.model_selection import train_test_split as train_test_split\n",
        "from sklearn.preprocessing import StandardScaler\n",
        "\n",
        "%matplotlib inline\n",
        "sns.set()\n",
        "plt.rcParams['figure.figsize'] = (10.0, 8.0)"
      ],
      "execution_count": 1,
      "outputs": []
    },
    {
      "cell_type": "code",
      "metadata": {
        "id": "-6qK41DHNW2g",
        "outputId": "455235f0-84b2-444b-d513-537e88b76932",
        "colab": {
          "base_uri": "https://localhost:8080/",
          "height": 376
        }
      },
      "source": [
        "# Load data\n",
        "thyroid_data = pd.read_csv('hypothyroid.csv')\n",
        "\n",
        "# Sample data\n",
        "thyroid_data.sample(10)"
      ],
      "execution_count": 2,
      "outputs": [
        {
          "output_type": "execute_result",
          "data": {
            "text/html": [
              "<div>\n",
              "<style scoped>\n",
              "    .dataframe tbody tr th:only-of-type {\n",
              "        vertical-align: middle;\n",
              "    }\n",
              "\n",
              "    .dataframe tbody tr th {\n",
              "        vertical-align: top;\n",
              "    }\n",
              "\n",
              "    .dataframe thead th {\n",
              "        text-align: right;\n",
              "    }\n",
              "</style>\n",
              "<table border=\"1\" class=\"dataframe\">\n",
              "  <thead>\n",
              "    <tr style=\"text-align: right;\">\n",
              "      <th></th>\n",
              "      <th>status</th>\n",
              "      <th>age</th>\n",
              "      <th>sex</th>\n",
              "      <th>on_thyroxine</th>\n",
              "      <th>query_on_thyroxine</th>\n",
              "      <th>on_antithyroid_medication</th>\n",
              "      <th>thyroid_surgery</th>\n",
              "      <th>query_hypothyroid</th>\n",
              "      <th>query_hyperthyroid</th>\n",
              "      <th>pregnant</th>\n",
              "      <th>sick</th>\n",
              "      <th>tumor</th>\n",
              "      <th>lithium</th>\n",
              "      <th>goitre</th>\n",
              "      <th>TSH_measured</th>\n",
              "      <th>TSH</th>\n",
              "      <th>T3_measured</th>\n",
              "      <th>T3</th>\n",
              "      <th>TT4_measured</th>\n",
              "      <th>TT4</th>\n",
              "      <th>T4U_measured</th>\n",
              "      <th>T4U</th>\n",
              "      <th>FTI_measured</th>\n",
              "      <th>FTI</th>\n",
              "      <th>TBG_measured</th>\n",
              "      <th>TBG</th>\n",
              "    </tr>\n",
              "  </thead>\n",
              "  <tbody>\n",
              "    <tr>\n",
              "      <th>122</th>\n",
              "      <td>hypothyroid</td>\n",
              "      <td>79</td>\n",
              "      <td>F</td>\n",
              "      <td>f</td>\n",
              "      <td>f</td>\n",
              "      <td>f</td>\n",
              "      <td>f</td>\n",
              "      <td>f</td>\n",
              "      <td>f</td>\n",
              "      <td>f</td>\n",
              "      <td>f</td>\n",
              "      <td>f</td>\n",
              "      <td>f</td>\n",
              "      <td>f</td>\n",
              "      <td>y</td>\n",
              "      <td>29</td>\n",
              "      <td>y</td>\n",
              "      <td>1.60</td>\n",
              "      <td>y</td>\n",
              "      <td>47</td>\n",
              "      <td>y</td>\n",
              "      <td>0.97</td>\n",
              "      <td>y</td>\n",
              "      <td>48</td>\n",
              "      <td>n</td>\n",
              "      <td>?</td>\n",
              "    </tr>\n",
              "    <tr>\n",
              "      <th>1121</th>\n",
              "      <td>negative</td>\n",
              "      <td>63</td>\n",
              "      <td>F</td>\n",
              "      <td>f</td>\n",
              "      <td>f</td>\n",
              "      <td>f</td>\n",
              "      <td>f</td>\n",
              "      <td>f</td>\n",
              "      <td>t</td>\n",
              "      <td>f</td>\n",
              "      <td>f</td>\n",
              "      <td>f</td>\n",
              "      <td>f</td>\n",
              "      <td>f</td>\n",
              "      <td>y</td>\n",
              "      <td>0.20</td>\n",
              "      <td>y</td>\n",
              "      <td>1.10</td>\n",
              "      <td>y</td>\n",
              "      <td>187</td>\n",
              "      <td>y</td>\n",
              "      <td>0.95</td>\n",
              "      <td>y</td>\n",
              "      <td>197</td>\n",
              "      <td>n</td>\n",
              "      <td>?</td>\n",
              "    </tr>\n",
              "    <tr>\n",
              "      <th>2107</th>\n",
              "      <td>negative</td>\n",
              "      <td>65</td>\n",
              "      <td>?</td>\n",
              "      <td>f</td>\n",
              "      <td>f</td>\n",
              "      <td>f</td>\n",
              "      <td>f</td>\n",
              "      <td>f</td>\n",
              "      <td>f</td>\n",
              "      <td>f</td>\n",
              "      <td>f</td>\n",
              "      <td>f</td>\n",
              "      <td>f</td>\n",
              "      <td>f</td>\n",
              "      <td>y</td>\n",
              "      <td>0.03</td>\n",
              "      <td>y</td>\n",
              "      <td>3.20</td>\n",
              "      <td>y</td>\n",
              "      <td>129</td>\n",
              "      <td>y</td>\n",
              "      <td>0.77</td>\n",
              "      <td>y</td>\n",
              "      <td>168</td>\n",
              "      <td>n</td>\n",
              "      <td>?</td>\n",
              "    </tr>\n",
              "    <tr>\n",
              "      <th>2513</th>\n",
              "      <td>negative</td>\n",
              "      <td>?</td>\n",
              "      <td>F</td>\n",
              "      <td>f</td>\n",
              "      <td>f</td>\n",
              "      <td>f</td>\n",
              "      <td>f</td>\n",
              "      <td>f</td>\n",
              "      <td>f</td>\n",
              "      <td>f</td>\n",
              "      <td>f</td>\n",
              "      <td>f</td>\n",
              "      <td>f</td>\n",
              "      <td>f</td>\n",
              "      <td>y</td>\n",
              "      <td>0.20</td>\n",
              "      <td>y</td>\n",
              "      <td>2</td>\n",
              "      <td>y</td>\n",
              "      <td>148</td>\n",
              "      <td>y</td>\n",
              "      <td>0.99</td>\n",
              "      <td>y</td>\n",
              "      <td>149</td>\n",
              "      <td>n</td>\n",
              "      <td>?</td>\n",
              "    </tr>\n",
              "    <tr>\n",
              "      <th>3035</th>\n",
              "      <td>negative</td>\n",
              "      <td>53</td>\n",
              "      <td>F</td>\n",
              "      <td>t</td>\n",
              "      <td>f</td>\n",
              "      <td>f</td>\n",
              "      <td>t</td>\n",
              "      <td>t</td>\n",
              "      <td>f</td>\n",
              "      <td>f</td>\n",
              "      <td>f</td>\n",
              "      <td>f</td>\n",
              "      <td>f</td>\n",
              "      <td>f</td>\n",
              "      <td>y</td>\n",
              "      <td>0.40</td>\n",
              "      <td>y</td>\n",
              "      <td>2.30</td>\n",
              "      <td>y</td>\n",
              "      <td>123</td>\n",
              "      <td>y</td>\n",
              "      <td>0.95</td>\n",
              "      <td>y</td>\n",
              "      <td>130</td>\n",
              "      <td>n</td>\n",
              "      <td>?</td>\n",
              "    </tr>\n",
              "    <tr>\n",
              "      <th>2771</th>\n",
              "      <td>negative</td>\n",
              "      <td>59</td>\n",
              "      <td>M</td>\n",
              "      <td>f</td>\n",
              "      <td>f</td>\n",
              "      <td>f</td>\n",
              "      <td>f</td>\n",
              "      <td>f</td>\n",
              "      <td>f</td>\n",
              "      <td>f</td>\n",
              "      <td>f</td>\n",
              "      <td>f</td>\n",
              "      <td>f</td>\n",
              "      <td>f</td>\n",
              "      <td>n</td>\n",
              "      <td>?</td>\n",
              "      <td>n</td>\n",
              "      <td>?</td>\n",
              "      <td>n</td>\n",
              "      <td>?</td>\n",
              "      <td>n</td>\n",
              "      <td>?</td>\n",
              "      <td>n</td>\n",
              "      <td>?</td>\n",
              "      <td>y</td>\n",
              "      <td>31</td>\n",
              "    </tr>\n",
              "    <tr>\n",
              "      <th>1454</th>\n",
              "      <td>negative</td>\n",
              "      <td>36</td>\n",
              "      <td>M</td>\n",
              "      <td>f</td>\n",
              "      <td>f</td>\n",
              "      <td>f</td>\n",
              "      <td>f</td>\n",
              "      <td>f</td>\n",
              "      <td>f</td>\n",
              "      <td>f</td>\n",
              "      <td>f</td>\n",
              "      <td>f</td>\n",
              "      <td>f</td>\n",
              "      <td>f</td>\n",
              "      <td>n</td>\n",
              "      <td>?</td>\n",
              "      <td>n</td>\n",
              "      <td>?</td>\n",
              "      <td>y</td>\n",
              "      <td>97</td>\n",
              "      <td>y</td>\n",
              "      <td>0.85</td>\n",
              "      <td>y</td>\n",
              "      <td>114</td>\n",
              "      <td>n</td>\n",
              "      <td>?</td>\n",
              "    </tr>\n",
              "    <tr>\n",
              "      <th>2042</th>\n",
              "      <td>negative</td>\n",
              "      <td>43</td>\n",
              "      <td>M</td>\n",
              "      <td>f</td>\n",
              "      <td>f</td>\n",
              "      <td>f</td>\n",
              "      <td>f</td>\n",
              "      <td>f</td>\n",
              "      <td>f</td>\n",
              "      <td>f</td>\n",
              "      <td>f</td>\n",
              "      <td>f</td>\n",
              "      <td>f</td>\n",
              "      <td>f</td>\n",
              "      <td>y</td>\n",
              "      <td>2.70</td>\n",
              "      <td>y</td>\n",
              "      <td>1.10</td>\n",
              "      <td>y</td>\n",
              "      <td>106</td>\n",
              "      <td>y</td>\n",
              "      <td>0.87</td>\n",
              "      <td>y</td>\n",
              "      <td>122</td>\n",
              "      <td>n</td>\n",
              "      <td>?</td>\n",
              "    </tr>\n",
              "    <tr>\n",
              "      <th>2801</th>\n",
              "      <td>negative</td>\n",
              "      <td>?</td>\n",
              "      <td>F</td>\n",
              "      <td>f</td>\n",
              "      <td>f</td>\n",
              "      <td>f</td>\n",
              "      <td>f</td>\n",
              "      <td>f</td>\n",
              "      <td>f</td>\n",
              "      <td>f</td>\n",
              "      <td>f</td>\n",
              "      <td>f</td>\n",
              "      <td>f</td>\n",
              "      <td>f</td>\n",
              "      <td>y</td>\n",
              "      <td>0.30</td>\n",
              "      <td>y</td>\n",
              "      <td>1</td>\n",
              "      <td>y</td>\n",
              "      <td>80</td>\n",
              "      <td>y</td>\n",
              "      <td>0.85</td>\n",
              "      <td>y</td>\n",
              "      <td>94</td>\n",
              "      <td>n</td>\n",
              "      <td>?</td>\n",
              "    </tr>\n",
              "    <tr>\n",
              "      <th>243</th>\n",
              "      <td>negative</td>\n",
              "      <td>80</td>\n",
              "      <td>F</td>\n",
              "      <td>f</td>\n",
              "      <td>f</td>\n",
              "      <td>f</td>\n",
              "      <td>f</td>\n",
              "      <td>f</td>\n",
              "      <td>f</td>\n",
              "      <td>f</td>\n",
              "      <td>f</td>\n",
              "      <td>f</td>\n",
              "      <td>f</td>\n",
              "      <td>f</td>\n",
              "      <td>y</td>\n",
              "      <td>1.70</td>\n",
              "      <td>y</td>\n",
              "      <td>0.80</td>\n",
              "      <td>y</td>\n",
              "      <td>101</td>\n",
              "      <td>y</td>\n",
              "      <td>0.81</td>\n",
              "      <td>y</td>\n",
              "      <td>125</td>\n",
              "      <td>n</td>\n",
              "      <td>?</td>\n",
              "    </tr>\n",
              "  </tbody>\n",
              "</table>\n",
              "</div>"
            ],
            "text/plain": [
              "           status age sex on_thyroxine  ... FTI_measured  FTI TBG_measured TBG\n",
              "122   hypothyroid  79   F            f  ...            y   48            n   ?\n",
              "1121     negative  63   F            f  ...            y  197            n   ?\n",
              "2107     negative  65   ?            f  ...            y  168            n   ?\n",
              "2513     negative   ?   F            f  ...            y  149            n   ?\n",
              "3035     negative  53   F            t  ...            y  130            n   ?\n",
              "2771     negative  59   M            f  ...            n    ?            y  31\n",
              "1454     negative  36   M            f  ...            y  114            n   ?\n",
              "2042     negative  43   M            f  ...            y  122            n   ?\n",
              "2801     negative   ?   F            f  ...            y   94            n   ?\n",
              "243      negative  80   F            f  ...            y  125            n   ?\n",
              "\n",
              "[10 rows x 26 columns]"
            ]
          },
          "metadata": {
            "tags": []
          },
          "execution_count": 2
        }
      ]
    },
    {
      "cell_type": "code",
      "metadata": {
        "id": "ydCXrTmXOFka",
        "outputId": "580c6ad5-5677-4346-f519-852acb40145e",
        "colab": {
          "base_uri": "https://localhost:8080/",
          "height": 589
        }
      },
      "source": [
        "# Column data types\n",
        "thyroid_data.info()"
      ],
      "execution_count": 3,
      "outputs": [
        {
          "output_type": "stream",
          "text": [
            "<class 'pandas.core.frame.DataFrame'>\n",
            "RangeIndex: 3163 entries, 0 to 3162\n",
            "Data columns (total 26 columns):\n",
            " #   Column                     Non-Null Count  Dtype \n",
            "---  ------                     --------------  ----- \n",
            " 0   status                     3163 non-null   object\n",
            " 1   age                        3163 non-null   object\n",
            " 2   sex                        3163 non-null   object\n",
            " 3   on_thyroxine               3163 non-null   object\n",
            " 4   query_on_thyroxine         3163 non-null   object\n",
            " 5   on_antithyroid_medication  3163 non-null   object\n",
            " 6   thyroid_surgery            3163 non-null   object\n",
            " 7   query_hypothyroid          3163 non-null   object\n",
            " 8   query_hyperthyroid         3163 non-null   object\n",
            " 9   pregnant                   3163 non-null   object\n",
            " 10  sick                       3163 non-null   object\n",
            " 11  tumor                      3163 non-null   object\n",
            " 12  lithium                    3163 non-null   object\n",
            " 13  goitre                     3163 non-null   object\n",
            " 14  TSH_measured               3163 non-null   object\n",
            " 15  TSH                        3163 non-null   object\n",
            " 16  T3_measured                3163 non-null   object\n",
            " 17  T3                         3163 non-null   object\n",
            " 18  TT4_measured               3163 non-null   object\n",
            " 19  TT4                        3163 non-null   object\n",
            " 20  T4U_measured               3163 non-null   object\n",
            " 21  T4U                        3163 non-null   object\n",
            " 22  FTI_measured               3163 non-null   object\n",
            " 23  FTI                        3163 non-null   object\n",
            " 24  TBG_measured               3163 non-null   object\n",
            " 25  TBG                        3163 non-null   object\n",
            "dtypes: object(26)\n",
            "memory usage: 642.6+ KB\n"
          ],
          "name": "stdout"
        }
      ]
    },
    {
      "cell_type": "code",
      "metadata": {
        "id": "v8rUV2-QTKVt",
        "outputId": "0562d861-5acf-4a04-c912-bec86b3435ed",
        "colab": {
          "base_uri": "https://localhost:8080/",
          "height": 34
        }
      },
      "source": [
        "# Check shape of data\n",
        "thyroid_data.shape"
      ],
      "execution_count": 4,
      "outputs": [
        {
          "output_type": "execute_result",
          "data": {
            "text/plain": [
              "(3163, 26)"
            ]
          },
          "metadata": {
            "tags": []
          },
          "execution_count": 4
        }
      ]
    },
    {
      "cell_type": "code",
      "metadata": {
        "id": "_cozMN4mOaHo",
        "outputId": "38dfb499-07d9-49c0-be79-6407c9bf8451",
        "colab": {
          "base_uri": "https://localhost:8080/",
          "height": 1000
        }
      },
      "source": [
        "# Get unique values for each column\n",
        "column_names = thyroid_data.columns.to_list()\n",
        "\n",
        "for col in column_names:\n",
        "  print(f'Column: {col} \\n')\n",
        "  print(thyroid_data[col].unique())\n",
        "  print('************** \\n \\n')"
      ],
      "execution_count": 5,
      "outputs": [
        {
          "output_type": "stream",
          "text": [
            "Column: status \n",
            "\n",
            "['hypothyroid' 'negative']\n",
            "************** \n",
            " \n",
            "\n",
            "Column: age \n",
            "\n",
            "['72' '15' '24' '77' '85' '64' '20' '42' '69' '75' '53' '59' '68' '50'\n",
            " '78' '65' '28' '43' '40' '84' '?' '83' '63' '73' '36' '27' '48' '71' '60'\n",
            " '34' '79' '62' '74' '32' '41' '70' '29' '5' '58' '35' '51' '22' '16' '44'\n",
            " '39' '47' '18' '17' '88' '56' '30' '45' '66' '52' '54' '80' '33' '38'\n",
            " '92' '67' '46' '13' '89' '61' '49' '26' '57' '31' '90' '81' '25' '37'\n",
            " '76' '87' '23' '55' '86' '98' '21' '97' '1' '6' '14' '82' '11' '19' '9'\n",
            " '12' '10' '8' '7' '4' '93']\n",
            "************** \n",
            " \n",
            "\n",
            "Column: sex \n",
            "\n",
            "['M' 'F' '?']\n",
            "************** \n",
            " \n",
            "\n",
            "Column: on_thyroxine \n",
            "\n",
            "['f' 't']\n",
            "************** \n",
            " \n",
            "\n",
            "Column: query_on_thyroxine \n",
            "\n",
            "['f' 't']\n",
            "************** \n",
            " \n",
            "\n",
            "Column: on_antithyroid_medication \n",
            "\n",
            "['f' 't']\n",
            "************** \n",
            " \n",
            "\n",
            "Column: thyroid_surgery \n",
            "\n",
            "['f' 't']\n",
            "************** \n",
            " \n",
            "\n",
            "Column: query_hypothyroid \n",
            "\n",
            "['f' 't']\n",
            "************** \n",
            " \n",
            "\n",
            "Column: query_hyperthyroid \n",
            "\n",
            "['f' 't']\n",
            "************** \n",
            " \n",
            "\n",
            "Column: pregnant \n",
            "\n",
            "['f' 't']\n",
            "************** \n",
            " \n",
            "\n",
            "Column: sick \n",
            "\n",
            "['f' 't']\n",
            "************** \n",
            " \n",
            "\n",
            "Column: tumor \n",
            "\n",
            "['f' 't']\n",
            "************** \n",
            " \n",
            "\n",
            "Column: lithium \n",
            "\n",
            "['f' 't']\n",
            "************** \n",
            " \n",
            "\n",
            "Column: goitre \n",
            "\n",
            "['f' 't']\n",
            "************** \n",
            " \n",
            "\n",
            "Column: TSH_measured \n",
            "\n",
            "['y' 'n']\n",
            "************** \n",
            " \n",
            "\n",
            "Column: TSH \n",
            "\n",
            "['30' '145' '0' '430' '7.30' '138' '7.70' '21' '92' '48' '36' '15' '15.30'\n",
            " '25' '61' '28' '170' '54' '216' '56' '71' '46' '70' '34' '53' '9.40'\n",
            " '126' '10' '530' '35' '65' '57' '125' '23' '80' '117' '49' '66' '8.20'\n",
            " '150' '?' '18' '165' '164' '24' '90' '77' '19' '58' '100' '213' '17'\n",
            " '235' '153' '13' '31' '109' '260' '43' '12' '11' '55' '6.50' '20' '7.50'\n",
            " '14' '60' '140' '33' '8.70' '0.25' '10.70' '82' '45' '42' '41' '160' '16'\n",
            " '89' '44' '176' '6.40' '183' '29' '37' '39' '7.90' '59' '68' '38' '47'\n",
            " '143' '6.60' '288' '96' '0.50' '1.20' '1.90' '0.09' '3.10' '0.40' '0.85'\n",
            " '0.30' '0.90' '1.50' '4.60' '0.20' '5.80' '4' '1.40' '2' '2.60' '2.90'\n",
            " '0.80' '4.90' '10.30' '2.30' '0.70' '0.60' '1.30' '2.50' '5.10' '1.70'\n",
            " '2.70' '22' '8.10' '3.30' '5' '3.20' '1.80' '1.10' '0.46' '1' '5.60'\n",
            " '4.40' '16.50' '2.10' '6.30' '5.50' '7.40' '5.90' '0.15' '14.90' '2.20'\n",
            " '9.70' '9.60' '1.60' '3.70' '3' '2.80' '0.10' '4.20' '27' '3.50' '0.05'\n",
            " '19.20' '8' '9.10' '3.60' '7.80' '3.80' '8.50' '9.20' '52' '2.40' '3.90'\n",
            " '0.03' '0.04' '26' '6.10' '0.65' '0.92' '7.60' '8.40' '14.40' '1.05'\n",
            " '0.37' '178' '6.90' '4.50' '4.70' '40' '6' '4.10' '14.30' '5.40' '8.30'\n",
            " '0.06' '8.80' '8.90' '7.10' '4.80' '0.43' '6.70' '200' '8.60' '86' '0.21'\n",
            " '9' '0.26' '3.40' '6.20' '17.40' '85' '1.83' '63' '13.30' '0.02' '0.42'\n",
            " '9.50' '0.84' '0.88' '4.30' '0.67' '0.81' '5.20' '9.80' '76' '0.62'\n",
            " '0.01' '11.40' '88' '0.68' '0.07' '0.69' '0.77' '9.90' '0.64' '13.20'\n",
            " '6.80' '0.28' '11.60' '0.91' '1.01' '0.23' '0.35' '50' '32' '0.83' '0.08']\n",
            "************** \n",
            " \n",
            "\n",
            "Column: T3_measured \n",
            "\n",
            "['y' 'n']\n",
            "************** \n",
            " \n",
            "\n",
            "Column: T3 \n",
            "\n",
            "['0.60' '1.70' '0.20' '0.40' '1.20' '1.10' '1.30' '1.90' '?' '0.80' '2.20'\n",
            " '1.50' '2.70' '2' '0.30' '2.10' '0.50' '0.70' '1' '1.40' '2.30' '2.40'\n",
            " '0.90' '1.80' '0' '2.80' '1.60' '6.70' '3.30' '3' '2.50' '2.60' '4'\n",
            " '9.80' '3.90' '3.40' '3.80' '4.50' '3.20' '3.70' '4.30' '2.90' '3.10'\n",
            " '3.50' '3.60' '6.60' '4.90' '8.90' '4.10' '5' '5.30' '7.60' '7.30' '4.20'\n",
            " '4.40' '5.10' '7' '0.10' '0.05' '4.70' '6.20' '5.50' '4.60' '6.10' '8.10'\n",
            " '5.20' '5.60' '4.80' '10.20' '8.60']\n",
            "************** \n",
            " \n",
            "\n",
            "Column: TT4_measured \n",
            "\n",
            "['y' 'n']\n",
            "************** \n",
            " \n",
            "\n",
            "Column: TT4 \n",
            "\n",
            "['15' '19' '4' '6' '57' '27' '54' '34' '39' '7.60' '53' '38' '98' '44'\n",
            " '37' '81' '13' '17' '12' '50' '23' '14' '3.90' '52' '32' '30' '84' '10'\n",
            " '55' '24' '28' '11' '6.60' '31' '33' '41' '9' '78' '42' '8.10' '65' '16'\n",
            " '9.70' '46' '22' '61' '2.30' '21' '7.50' '18' '66' '25' '43' '2' '3' '58'\n",
            " '59' '71' '74' '56' '40' '20' '48' '230' '70' '4.10' '63' '5.30' '2.90'\n",
            " '62' '75' '68' '45' '47' '36' '80' '109' '8.60' '83' '82' '101' '76'\n",
            " '103' '112' '206' '110' '93' '79' '121' '?' '107' '88' '187' '254' '115'\n",
            " '113' '260' '117' '164' '97' '64' '129' '111' '106' '95' '87' '105' '90'\n",
            " '67' '134' '35' '193' '143' '130' '108' '86' '96' '92' '99' '216' '152'\n",
            " '125' '138' '194' '91' '120' '102' '170' '126' '116' '140' '94' '159'\n",
            " '85' '210' '89' '151' '247' '139' '153' '178' '123' '137' '161' '7.30'\n",
            " '72' '202' '122' '124' '157' '118' '104' '135' '186' '241' '131' '119'\n",
            " '100' '220' '176' '136' '183' '155' '208' '199' '154' '169' '128' '235'\n",
            " '195' '267' '232' '197' '212' '149' '127' '245' '132' '162' '77' '142'\n",
            " '69' '173' '141' '156' '181' '189' '60' '114' '198' '147' '191' '177'\n",
            " '174' '207' '168' '73' '160' '145' '200' '182' '158' '203' '209' '217'\n",
            " '430' '213' '218' '163' '296' '167' '148' '166' '185' '248' '172' '144'\n",
            " '150' '165' '196' '308' '146' '426' '224' '29' '204' '201' '133' '180'\n",
            " '184' '450' '244' '301' '255' '252' '396' '223' '261' '250' '179' '219'\n",
            " '190' '51' '221' '171' '242' '275' '211' '49' '239' '205' '222' '256'\n",
            " '214' '282' '287' '253' '269' '175' '228' '333' '258' '236' '225' '263'\n",
            " '283' '359' '188' '240']\n",
            "************** \n",
            " \n",
            "\n",
            "Column: T4U_measured \n",
            "\n",
            "['y' 'n']\n",
            "************** \n",
            " \n",
            "\n",
            "Column: T4U \n",
            "\n",
            "['1.48' '1.13' '1' '1.04' '1.28' '1.19' '0.86' '1.05' '1.21' '1.02' '0.92'\n",
            " '1.29' '0.98' '1.08' '1.01' '1.18' '1.10' '1.27' '0.83' '1.11' '0.78'\n",
            " '1.39' '1.12' '0.93' '0.99' '0.90' '1.06' '0.68' '0.67' '1.14' '0.80'\n",
            " '0.96' '0.95' '1.46' '1.03' '0.97' '0.94' '1.09' '1.24' '1.23' '1.53'\n",
            " '1.26' '1.40' '1.17' '0.87' '0.61' '0.70' '1.07' '1.73' '1.45' '1.20'\n",
            " '0.89' '0.84' '0.91' '0.85' '1.35' '0.82' '1.50' '0.74' '1.71' '1.79'\n",
            " '0.73' '0.77' '1.25' '?' '0.88' '0.72' '0.31' '0' '0.79' '0.81' '0.71'\n",
            " '1.93' '1.32' '0.66' '1.68' '1.42' '1.70' '1.83' '1.41' '1.34' '1.65'\n",
            " '1.22' '0.75' '1.74' '0.69' '1.51' '0.76' '1.16' '0.35' '0.62' '0.54'\n",
            " '1.36' '1.33' '1.30' '0.48' '1.59' '1.75' '1.86' '1.38' '1.43' '1.62'\n",
            " '2.01' '0.30' '1.31' '1.15' '1.57' '0.55' '1.66' '0.52' '1.97' '1.47'\n",
            " '0.36' '1.88' '1.55' '0.34' '1.67' '0.58' '0.60' '0.59' '1.37' '1.76'\n",
            " '0.64' '1.80' '0.41' '0.20' '1.77' '0.33' '1.54' '0.46' '0.32' '1.44'\n",
            " '1.56' '0.56' '1.52' '2.03' '0.65' '0.63' '1.96' '0.53' '0.47' '0.29'\n",
            " '2.21' '1.69' '1.64' '1.49' '1.72' '1.58' '0.57' '1.61' '0.28' '2' '1.63'\n",
            " '0.27' '1.94' '0.50' '0.49' '0.40' '0.38']\n",
            "************** \n",
            " \n",
            "\n",
            "Column: FTI_measured \n",
            "\n",
            "['y' 'n']\n",
            "************** \n",
            " \n",
            "\n",
            "Column: FTI \n",
            "\n",
            "['10' '17' '0' '6' '44' '23' '63' '32' '7.50' '61' '41' '76' '45' '34'\n",
            " '81' '11' '16' '46' '22' '12' '5' '47' '29' '37' '60' '8.40' '8.50' '24'\n",
            " '28' '7' '49' '36' '15' '9' '80' '53' '7.20' '68' '6.60' '48' '21' '14'\n",
            " '2' '20' '1.40' '56' '3' '51' '13' '43' '78' '52' '64' '26' '35' '31'\n",
            " '133' '3.40' '54' '8.90' '57' '5.50' '58' '55' '2.80' '66' '4' '40' '50'\n",
            " '8.70' '87' '89' '112' '123' '99' '92' '104' '69' '196' '107' '106' '74'\n",
            " '97' '?' '122' '84' '114' '124' '241' '119' '120' '136' '85' '127' '839'\n",
            " '137' '197' '96' '77' '108' '82' '72' '94' '91' '240' '121' '109' '79'\n",
            " '100' '98' '73' '117' '165' '103' '88' '101' '126' '132' '128' '143'\n",
            " '152' '141' '186' '113' '102' '125' '93' '105' '159' '188' '71' '149'\n",
            " '116' '83' '176' '161' '86' '140' '111' '158' '115' '171' '90' '95' '70'\n",
            " '135' '134' '178' '110' '170' '205' '695' '155' '118' '741' '131' '129'\n",
            " '142' '153' '75' '254' '246' '139' '185' '157' '147' '164' '130' '222'\n",
            " '650' '174' '182' '144' '169' '257' '145' '345' '180' '167' '151' '154'\n",
            " '150' '219' '228' '65' '187' '166' '195' '208' '138' '33' '173' '146'\n",
            " '211' '181' '190' '247' '221' '395' '216' '212' '148' '162' '220' '370'\n",
            " '450' '160' '59' '189' '203' '168' '179' '264' '470' '184' '163' '67'\n",
            " '213' '354' '292' '359' '172' '156' '334' '177' '214' '194' '192' '215'\n",
            " '217' '271' '250' '244' '308' '881' '258' '316' '200' '711' '256' '232'\n",
            " '202' '39' '248' '237' '259' '445' '19' '852' '42' '235' '634' '283'\n",
            " '305' '204' '229' '332' '550' '249' '263' '615' '266' '198' '175' '209'\n",
            " '299' '193' '227' '223' '337' '210' '272' '702' '218' '239' '355' '482'\n",
            " '347' '485' '612' '428']\n",
            "************** \n",
            " \n",
            "\n",
            "Column: TBG_measured \n",
            "\n",
            "['n' 'y']\n",
            "************** \n",
            " \n",
            "\n",
            "Column: TBG \n",
            "\n",
            "['?' '28' '34' '0' '19' '30' '25' '48' '39' '31' '16' '21' '37' '40' '27'\n",
            " '3.10' '38' '108' '20' '36' '17' '23' '35' '32' '63' '9.30' '15' '26'\n",
            " '33' '41' '110' '22' '43' '53' '80' '47' '29' '13' '24' '18' '45' '86'\n",
            " '50' '8.40' '52' '11' '12' '14' '65' '7.30' '8.50' '69' '122']\n",
            "************** \n",
            " \n",
            "\n"
          ],
          "name": "stdout"
        }
      ]
    },
    {
      "cell_type": "markdown",
      "metadata": {
        "id": "G9b-rwaxQugK"
      },
      "source": [
        "Certain columns in the data have '?' as a value which symbolises unknown or missing during data collection. Also some numeric columns are in object data type and should be converted to numeric data types."
      ]
    },
    {
      "cell_type": "code",
      "metadata": {
        "id": "NUFw_06fPxiQ"
      },
      "source": [
        "# Replace '?' with nan\n",
        "thyroid_data.replace('?', np.nan, inplace=True)"
      ],
      "execution_count": 6,
      "outputs": []
    },
    {
      "cell_type": "code",
      "metadata": {
        "id": "t4D-tJ3LS8-9",
        "outputId": "a31b5c77-33b9-4fc0-be6d-df278a667c2e",
        "colab": {
          "base_uri": "https://localhost:8080/",
          "height": 485
        }
      },
      "source": [
        "# Check for missing values \n",
        "thyroid_data.isnull().sum().sort_values(ascending=False) / thyroid_data.shape[0] * 100"
      ],
      "execution_count": 7,
      "outputs": [
        {
          "output_type": "execute_result",
          "data": {
            "text/plain": [
              "TBG                          91.779956\n",
              "T3                           21.972811\n",
              "TSH                          14.796080\n",
              "age                          14.100537\n",
              "TT4                           7.872273\n",
              "T4U                           7.840658\n",
              "FTI                           7.809042\n",
              "sex                           2.307936\n",
              "pregnant                      0.000000\n",
              "on_thyroxine                  0.000000\n",
              "query_on_thyroxine            0.000000\n",
              "on_antithyroid_medication     0.000000\n",
              "thyroid_surgery               0.000000\n",
              "query_hypothyroid             0.000000\n",
              "query_hyperthyroid            0.000000\n",
              "lithium                       0.000000\n",
              "sick                          0.000000\n",
              "tumor                         0.000000\n",
              "TBG_measured                  0.000000\n",
              "goitre                        0.000000\n",
              "TSH_measured                  0.000000\n",
              "T3_measured                   0.000000\n",
              "TT4_measured                  0.000000\n",
              "T4U_measured                  0.000000\n",
              "FTI_measured                  0.000000\n",
              "status                        0.000000\n",
              "dtype: float64"
            ]
          },
          "metadata": {
            "tags": []
          },
          "execution_count": 7
        }
      ]
    },
    {
      "cell_type": "markdown",
      "metadata": {
        "id": "XYWUE3O7Ttjf"
      },
      "source": [
        "91% of the TBG column contains null values."
      ]
    },
    {
      "cell_type": "code",
      "metadata": {
        "id": "vnG7scf9TcAj"
      },
      "source": [
        "# Drop TBG column\n",
        "thyroid_data.drop('TBG', axis=1, inplace=True)"
      ],
      "execution_count": 8,
      "outputs": []
    },
    {
      "cell_type": "code",
      "metadata": {
        "id": "6P2xzY8cqTzi",
        "outputId": "310999ea-a853-47ce-9cf6-b422ef745529",
        "colab": {
          "base_uri": "https://localhost:8080/",
          "height": 69
        }
      },
      "source": [
        "# Determine distribution of target variable\n",
        "thyroid_data['status'].value_counts(normalize=True) * 100"
      ],
      "execution_count": 9,
      "outputs": [
        {
          "output_type": "execute_result",
          "data": {
            "text/plain": [
              "negative       95.226051\n",
              "hypothyroid     4.773949\n",
              "Name: status, dtype: float64"
            ]
          },
          "metadata": {
            "tags": []
          },
          "execution_count": 9
        }
      ]
    },
    {
      "cell_type": "code",
      "metadata": {
        "id": "qTtjRlbRUIf8"
      },
      "source": [
        "# Convert column data types\n",
        "numeric_columns = ['age', 'TSH','T3', 'TT4','T4U','FTI']\n",
        "thyroid_data[numeric_columns] = thyroid_data[numeric_columns].astype(np.float64)"
      ],
      "execution_count": 10,
      "outputs": []
    },
    {
      "cell_type": "code",
      "metadata": {
        "id": "FCjI_IDVUS8h",
        "outputId": "4eba7f6c-ddcc-4f1b-f5ca-346b89ca9f89",
        "colab": {
          "base_uri": "https://localhost:8080/",
          "height": 294
        }
      },
      "source": [
        "# Describe numeric columns\n",
        "thyroid_data.describe()"
      ],
      "execution_count": 11,
      "outputs": [
        {
          "output_type": "execute_result",
          "data": {
            "text/html": [
              "<div>\n",
              "<style scoped>\n",
              "    .dataframe tbody tr th:only-of-type {\n",
              "        vertical-align: middle;\n",
              "    }\n",
              "\n",
              "    .dataframe tbody tr th {\n",
              "        vertical-align: top;\n",
              "    }\n",
              "\n",
              "    .dataframe thead th {\n",
              "        text-align: right;\n",
              "    }\n",
              "</style>\n",
              "<table border=\"1\" class=\"dataframe\">\n",
              "  <thead>\n",
              "    <tr style=\"text-align: right;\">\n",
              "      <th></th>\n",
              "      <th>age</th>\n",
              "      <th>TSH</th>\n",
              "      <th>T3</th>\n",
              "      <th>TT4</th>\n",
              "      <th>T4U</th>\n",
              "      <th>FTI</th>\n",
              "    </tr>\n",
              "  </thead>\n",
              "  <tbody>\n",
              "    <tr>\n",
              "      <th>count</th>\n",
              "      <td>2717.000000</td>\n",
              "      <td>2695.000000</td>\n",
              "      <td>2468.000000</td>\n",
              "      <td>2914.000000</td>\n",
              "      <td>2915.000000</td>\n",
              "      <td>2916.000000</td>\n",
              "    </tr>\n",
              "    <tr>\n",
              "      <th>mean</th>\n",
              "      <td>51.154214</td>\n",
              "      <td>5.923180</td>\n",
              "      <td>1.939749</td>\n",
              "      <td>108.850000</td>\n",
              "      <td>0.978199</td>\n",
              "      <td>115.397771</td>\n",
              "    </tr>\n",
              "    <tr>\n",
              "      <th>std</th>\n",
              "      <td>19.294405</td>\n",
              "      <td>23.899467</td>\n",
              "      <td>0.996773</td>\n",
              "      <td>45.485419</td>\n",
              "      <td>0.226580</td>\n",
              "      <td>60.239572</td>\n",
              "    </tr>\n",
              "    <tr>\n",
              "      <th>min</th>\n",
              "      <td>1.000000</td>\n",
              "      <td>0.000000</td>\n",
              "      <td>0.000000</td>\n",
              "      <td>2.000000</td>\n",
              "      <td>0.000000</td>\n",
              "      <td>0.000000</td>\n",
              "    </tr>\n",
              "    <tr>\n",
              "      <th>25%</th>\n",
              "      <td>35.000000</td>\n",
              "      <td>0.000000</td>\n",
              "      <td>1.400000</td>\n",
              "      <td>83.000000</td>\n",
              "      <td>0.850000</td>\n",
              "      <td>91.000000</td>\n",
              "    </tr>\n",
              "    <tr>\n",
              "      <th>50%</th>\n",
              "      <td>54.000000</td>\n",
              "      <td>0.700000</td>\n",
              "      <td>1.800000</td>\n",
              "      <td>104.000000</td>\n",
              "      <td>0.960000</td>\n",
              "      <td>107.000000</td>\n",
              "    </tr>\n",
              "    <tr>\n",
              "      <th>75%</th>\n",
              "      <td>67.000000</td>\n",
              "      <td>2.300000</td>\n",
              "      <td>2.300000</td>\n",
              "      <td>128.000000</td>\n",
              "      <td>1.065000</td>\n",
              "      <td>129.000000</td>\n",
              "    </tr>\n",
              "    <tr>\n",
              "      <th>max</th>\n",
              "      <td>98.000000</td>\n",
              "      <td>530.000000</td>\n",
              "      <td>10.200000</td>\n",
              "      <td>450.000000</td>\n",
              "      <td>2.210000</td>\n",
              "      <td>881.000000</td>\n",
              "    </tr>\n",
              "  </tbody>\n",
              "</table>\n",
              "</div>"
            ],
            "text/plain": [
              "               age          TSH  ...          T4U          FTI\n",
              "count  2717.000000  2695.000000  ...  2915.000000  2916.000000\n",
              "mean     51.154214     5.923180  ...     0.978199   115.397771\n",
              "std      19.294405    23.899467  ...     0.226580    60.239572\n",
              "min       1.000000     0.000000  ...     0.000000     0.000000\n",
              "25%      35.000000     0.000000  ...     0.850000    91.000000\n",
              "50%      54.000000     0.700000  ...     0.960000   107.000000\n",
              "75%      67.000000     2.300000  ...     1.065000   129.000000\n",
              "max      98.000000   530.000000  ...     2.210000   881.000000\n",
              "\n",
              "[8 rows x 6 columns]"
            ]
          },
          "metadata": {
            "tags": []
          },
          "execution_count": 11
        }
      ]
    },
    {
      "cell_type": "code",
      "metadata": {
        "id": "qM9ByPBKV7yH",
        "outputId": "864f05be-72c3-4434-c3de-859690fa0c1a",
        "colab": {
          "base_uri": "https://localhost:8080/",
          "height": 729
        }
      },
      "source": [
        "fig, axes = plt.subplots(nrows=3, ncols=2, figsize=(15, 10))\n",
        "colors = ['#00FF7F', '#8B0000', '#0000FF', '#DB7093', '#FFFF00', '#FF4500']\n",
        "\n",
        "for col, colour, ax in zip(numeric_columns, colors, axes.flatten()):\n",
        "\n",
        "  standard_var = thyroid_data[col].std()\n",
        "  skew = thyroid_data[col].skew()\n",
        "  kurt = thyroid_data[col].kurt()\n",
        "  range = thyroid_data[col].max() - thyroid_data[col].min()\n",
        "\n",
        "  sns.histplot(thyroid_data[col],  ax=ax, color=colour)\n",
        "  ax.set_title(f'{col}: Standard Deviation: {standard_var} Skewness: {skew}\\n Kurtosis: {kurt} Range : {range}')\n",
        "\n",
        "plt.tight_layout()\n",
        "  "
      ],
      "execution_count": 12,
      "outputs": [
        {
          "output_type": "display_data",
          "data": {
            "image/png": "[encoded data removed]",
            "text/plain": [
              "<Figure size 1080x720 with 6 Axes>"
            ]
          },
          "metadata": {
            "tags": [],
            "needs_background": "light"
          }
        }
      ]
    },
    {
      "cell_type": "code",
      "metadata": {
        "id": "m-wrgBpdXGhK"
      },
      "source": [
        "# Fill missing values : for skewed features, median is used as central tendency measure, for unskewed data, the mean is used\n",
        "fill_values = {'T3':thyroid_data.T3.median(), 'age': thyroid_data.age.mean(), 'FTI': thyroid_data.FTI.median(), 'T4U': thyroid_data.T4U.mean(), 'TSH': thyroid_data.TSH.median(), 'TT4':thyroid_data.TT4.median()}\n",
        "thyroid_data.fillna(fill_values, inplace=True)"
      ],
      "execution_count": 13,
      "outputs": []
    },
    {
      "cell_type": "code",
      "metadata": {
        "id": "D_0I9rdHbVGD"
      },
      "source": [
        "# For sex, fill na with the mode\n",
        "thyroid_data.fillna({'sex': thyroid_data['sex'].mode()[0]}, inplace=True)"
      ],
      "execution_count": 14,
      "outputs": []
    },
    {
      "cell_type": "code",
      "metadata": {
        "id": "F-t8Td6WbnS3"
      },
      "source": [
        "# Map categorical values\n",
        "false_true = ['on_thyroxine', 'query_on_thyroxine','on_antithyroid_medication', 'thyroid_surgery', 'query_hypothyroid','query_hyperthyroid', 'pregnant', 'sick', 'tumor', 'lithium', 'goitre']\n",
        "yes_no = ['TSH_measured', 'T3_measured', 'TT4_measured', 'T4U_measured','FTI_measured', 'TBG_measured']\n",
        "\n",
        "false_true_mapper = {'f':0, 't':1}\n",
        "yes_no_mapper = {'n':0, 'y':1}\n",
        "\n",
        "for col in false_true:\n",
        "  thyroid_data[col] = thyroid_data[col].map(false_true_mapper)\n",
        "\n",
        "for col in yes_no:\n",
        "  thyroid_data[col] = thyroid_data[col].map(yes_no_mapper)\n",
        "\n",
        "thyroid_data['sex'] = thyroid_data['sex'].map({'M':0, 'F':1})\n",
        "thyroid_data['status'] = thyroid_data['status'].map({'hypothyroid': 1, 'negative': 0})"
      ],
      "execution_count": 15,
      "outputs": []
    },
    {
      "cell_type": "code",
      "metadata": {
        "id": "FdoKWN6GcWRz",
        "outputId": "53bce7a4-8641-4cef-bfb9-e3d53d284b4c",
        "colab": {
          "base_uri": "https://localhost:8080/",
          "height": 222
        }
      },
      "source": [
        "# Transformed data\n",
        "thyroid_data.head()"
      ],
      "execution_count": 16,
      "outputs": [
        {
          "output_type": "execute_result",
          "data": {
            "text/html": [
              "<div>\n",
              "<style scoped>\n",
              "    .dataframe tbody tr th:only-of-type {\n",
              "        vertical-align: middle;\n",
              "    }\n",
              "\n",
              "    .dataframe tbody tr th {\n",
              "        vertical-align: top;\n",
              "    }\n",
              "\n",
              "    .dataframe thead th {\n",
              "        text-align: right;\n",
              "    }\n",
              "</style>\n",
              "<table border=\"1\" class=\"dataframe\">\n",
              "  <thead>\n",
              "    <tr style=\"text-align: right;\">\n",
              "      <th></th>\n",
              "      <th>status</th>\n",
              "      <th>age</th>\n",
              "      <th>sex</th>\n",
              "      <th>on_thyroxine</th>\n",
              "      <th>query_on_thyroxine</th>\n",
              "      <th>on_antithyroid_medication</th>\n",
              "      <th>thyroid_surgery</th>\n",
              "      <th>query_hypothyroid</th>\n",
              "      <th>query_hyperthyroid</th>\n",
              "      <th>pregnant</th>\n",
              "      <th>sick</th>\n",
              "      <th>tumor</th>\n",
              "      <th>lithium</th>\n",
              "      <th>goitre</th>\n",
              "      <th>TSH_measured</th>\n",
              "      <th>TSH</th>\n",
              "      <th>T3_measured</th>\n",
              "      <th>T3</th>\n",
              "      <th>TT4_measured</th>\n",
              "      <th>TT4</th>\n",
              "      <th>T4U_measured</th>\n",
              "      <th>T4U</th>\n",
              "      <th>FTI_measured</th>\n",
              "      <th>FTI</th>\n",
              "      <th>TBG_measured</th>\n",
              "    </tr>\n",
              "  </thead>\n",
              "  <tbody>\n",
              "    <tr>\n",
              "      <th>0</th>\n",
              "      <td>1</td>\n",
              "      <td>72.0</td>\n",
              "      <td>0</td>\n",
              "      <td>0</td>\n",
              "      <td>0</td>\n",
              "      <td>0</td>\n",
              "      <td>0</td>\n",
              "      <td>0</td>\n",
              "      <td>0</td>\n",
              "      <td>0</td>\n",
              "      <td>0</td>\n",
              "      <td>0</td>\n",
              "      <td>0</td>\n",
              "      <td>0</td>\n",
              "      <td>1</td>\n",
              "      <td>30.0</td>\n",
              "      <td>1</td>\n",
              "      <td>0.6</td>\n",
              "      <td>1</td>\n",
              "      <td>15.0</td>\n",
              "      <td>1</td>\n",
              "      <td>1.48</td>\n",
              "      <td>1</td>\n",
              "      <td>10.0</td>\n",
              "      <td>0</td>\n",
              "    </tr>\n",
              "    <tr>\n",
              "      <th>1</th>\n",
              "      <td>1</td>\n",
              "      <td>15.0</td>\n",
              "      <td>1</td>\n",
              "      <td>1</td>\n",
              "      <td>0</td>\n",
              "      <td>0</td>\n",
              "      <td>0</td>\n",
              "      <td>0</td>\n",
              "      <td>0</td>\n",
              "      <td>0</td>\n",
              "      <td>0</td>\n",
              "      <td>0</td>\n",
              "      <td>0</td>\n",
              "      <td>0</td>\n",
              "      <td>1</td>\n",
              "      <td>145.0</td>\n",
              "      <td>1</td>\n",
              "      <td>1.7</td>\n",
              "      <td>1</td>\n",
              "      <td>19.0</td>\n",
              "      <td>1</td>\n",
              "      <td>1.13</td>\n",
              "      <td>1</td>\n",
              "      <td>17.0</td>\n",
              "      <td>0</td>\n",
              "    </tr>\n",
              "    <tr>\n",
              "      <th>2</th>\n",
              "      <td>1</td>\n",
              "      <td>24.0</td>\n",
              "      <td>0</td>\n",
              "      <td>0</td>\n",
              "      <td>0</td>\n",
              "      <td>0</td>\n",
              "      <td>0</td>\n",
              "      <td>0</td>\n",
              "      <td>0</td>\n",
              "      <td>0</td>\n",
              "      <td>0</td>\n",
              "      <td>0</td>\n",
              "      <td>0</td>\n",
              "      <td>0</td>\n",
              "      <td>1</td>\n",
              "      <td>0.0</td>\n",
              "      <td>1</td>\n",
              "      <td>0.2</td>\n",
              "      <td>1</td>\n",
              "      <td>4.0</td>\n",
              "      <td>1</td>\n",
              "      <td>1.00</td>\n",
              "      <td>1</td>\n",
              "      <td>0.0</td>\n",
              "      <td>0</td>\n",
              "    </tr>\n",
              "    <tr>\n",
              "      <th>3</th>\n",
              "      <td>1</td>\n",
              "      <td>24.0</td>\n",
              "      <td>1</td>\n",
              "      <td>0</td>\n",
              "      <td>0</td>\n",
              "      <td>0</td>\n",
              "      <td>0</td>\n",
              "      <td>0</td>\n",
              "      <td>0</td>\n",
              "      <td>0</td>\n",
              "      <td>0</td>\n",
              "      <td>0</td>\n",
              "      <td>0</td>\n",
              "      <td>0</td>\n",
              "      <td>1</td>\n",
              "      <td>430.0</td>\n",
              "      <td>1</td>\n",
              "      <td>0.4</td>\n",
              "      <td>1</td>\n",
              "      <td>6.0</td>\n",
              "      <td>1</td>\n",
              "      <td>1.04</td>\n",
              "      <td>1</td>\n",
              "      <td>6.0</td>\n",
              "      <td>0</td>\n",
              "    </tr>\n",
              "    <tr>\n",
              "      <th>4</th>\n",
              "      <td>1</td>\n",
              "      <td>77.0</td>\n",
              "      <td>0</td>\n",
              "      <td>0</td>\n",
              "      <td>0</td>\n",
              "      <td>0</td>\n",
              "      <td>0</td>\n",
              "      <td>0</td>\n",
              "      <td>0</td>\n",
              "      <td>0</td>\n",
              "      <td>0</td>\n",
              "      <td>0</td>\n",
              "      <td>0</td>\n",
              "      <td>0</td>\n",
              "      <td>1</td>\n",
              "      <td>7.3</td>\n",
              "      <td>1</td>\n",
              "      <td>1.2</td>\n",
              "      <td>1</td>\n",
              "      <td>57.0</td>\n",
              "      <td>1</td>\n",
              "      <td>1.28</td>\n",
              "      <td>1</td>\n",
              "      <td>44.0</td>\n",
              "      <td>0</td>\n",
              "    </tr>\n",
              "  </tbody>\n",
              "</table>\n",
              "</div>"
            ],
            "text/plain": [
              "   status   age  sex  on_thyroxine  ...   T4U  FTI_measured   FTI  TBG_measured\n",
              "0       1  72.0    0             0  ...  1.48             1  10.0             0\n",
              "1       1  15.0    1             1  ...  1.13             1  17.0             0\n",
              "2       1  24.0    0             0  ...  1.00             1   0.0             0\n",
              "3       1  24.0    1             0  ...  1.04             1   6.0             0\n",
              "4       1  77.0    0             0  ...  1.28             1  44.0             0\n",
              "\n",
              "[5 rows x 25 columns]"
            ]
          },
          "metadata": {
            "tags": []
          },
          "execution_count": 16
        }
      ]
    },
    {
      "cell_type": "code",
      "metadata": {
        "id": "HqJuXEzQekXb",
        "outputId": "65bf6b37-84e8-4c74-cf66-084cb75cc9eb",
        "colab": {
          "base_uri": "https://localhost:8080/",
          "height": 957
        }
      },
      "source": [
        "# Determine outlier in data\n",
        "fig, axes = plt.subplots(nrows=3, ncols=2, figsize=(15, 10))\n",
        "colors = ['#00FF7F', '#8B0000', '#0000FF', '#DB7093', '#FFFF00', '#FF4500']\n",
        "\n",
        "for col, colour, ax in zip(numeric_columns, colors, axes.flatten()):\n",
        "  \n",
        "  sns.boxplot(thyroid_data[col],  ax=ax, color=colour)\n",
        "  ax.set_title(f'{col}')\n",
        "\n",
        "plt.tight_layout()\n",
        "  "
      ],
      "execution_count": 17,
      "outputs": [
        {
          "output_type": "stream",
          "text": [
            "/usr/local/lib/python3.6/dist-packages/seaborn/_decorators.py:43: FutureWarning: Pass the following variable as a keyword arg: x. From version 0.12, the only valid positional argument will be `data`, and passing other arguments without an explicit keyword will result in an error or misinterpretation.\n",
            "  FutureWarning\n",
            "/usr/local/lib/python3.6/dist-packages/seaborn/_decorators.py:43: FutureWarning: Pass the following variable as a keyword arg: x. From version 0.12, the only valid positional argument will be `data`, and passing other arguments without an explicit keyword will result in an error or misinterpretation.\n",
            "  FutureWarning\n",
            "/usr/local/lib/python3.6/dist-packages/seaborn/_decorators.py:43: FutureWarning: Pass the following variable as a keyword arg: x. From version 0.12, the only valid positional argument will be `data`, and passing other arguments without an explicit keyword will result in an error or misinterpretation.\n",
            "  FutureWarning\n",
            "/usr/local/lib/python3.6/dist-packages/seaborn/_decorators.py:43: FutureWarning: Pass the following variable as a keyword arg: x. From version 0.12, the only valid positional argument will be `data`, and passing other arguments without an explicit keyword will result in an error or misinterpretation.\n",
            "  FutureWarning\n",
            "/usr/local/lib/python3.6/dist-packages/seaborn/_decorators.py:43: FutureWarning: Pass the following variable as a keyword arg: x. From version 0.12, the only valid positional argument will be `data`, and passing other arguments without an explicit keyword will result in an error or misinterpretation.\n",
            "  FutureWarning\n",
            "/usr/local/lib/python3.6/dist-packages/seaborn/_decorators.py:43: FutureWarning: Pass the following variable as a keyword arg: x. From version 0.12, the only valid positional argument will be `data`, and passing other arguments without an explicit keyword will result in an error or misinterpretation.\n",
            "  FutureWarning\n"
          ],
          "name": "stderr"
        },
        {
          "output_type": "display_data",
          "data": {
            "image/png": "[encoded data removed]",
            "text/plain": [
              "<Figure size 1080x720 with 6 Axes>"
            ]
          },
          "metadata": {
            "tags": [],
            "needs_background": "light"
          }
        }
      ]
    },
    {
      "cell_type": "markdown",
      "metadata": {
        "id": "0uyFhzAwiGwQ"
      },
      "source": [
        "Except for the age variable, all other columns have outliers, especially the TSH feature"
      ]
    },
    {
      "cell_type": "code",
      "metadata": {
        "id": "BM7c8hH8hYum",
        "outputId": "efef7986-79ee-4900-8141-0e050e1777a0",
        "colab": {
          "base_uri": "https://localhost:8080/",
          "height": 416
        }
      },
      "source": [
        "# Determine outliers using interquantile range\n",
        "numeric_thyroid = thyroid_data[['TSH', 'T3', 'TT4', 'T4U', 'FTI']]\n",
        "Q1 = numeric_thyroid.quantile(0.25)\n",
        "Q3 = numeric_thyroid.quantile(0.75)\n",
        "IQR = Q3 - Q1\n",
        "\n",
        "numeric_thyroid[((numeric_thyroid <  Q1 - 1.5 * IQR) | (numeric_thyroid > Q3 + 1.5 * IQR)).any(axis=1)]"
      ],
      "execution_count": 18,
      "outputs": [
        {
          "output_type": "execute_result",
          "data": {
            "text/html": [
              "<div>\n",
              "<style scoped>\n",
              "    .dataframe tbody tr th:only-of-type {\n",
              "        vertical-align: middle;\n",
              "    }\n",
              "\n",
              "    .dataframe tbody tr th {\n",
              "        vertical-align: top;\n",
              "    }\n",
              "\n",
              "    .dataframe thead th {\n",
              "        text-align: right;\n",
              "    }\n",
              "</style>\n",
              "<table border=\"1\" class=\"dataframe\">\n",
              "  <thead>\n",
              "    <tr style=\"text-align: right;\">\n",
              "      <th></th>\n",
              "      <th>TSH</th>\n",
              "      <th>T3</th>\n",
              "      <th>TT4</th>\n",
              "      <th>T4U</th>\n",
              "      <th>FTI</th>\n",
              "    </tr>\n",
              "  </thead>\n",
              "  <tbody>\n",
              "    <tr>\n",
              "      <th>0</th>\n",
              "      <td>30.00</td>\n",
              "      <td>0.6</td>\n",
              "      <td>15.0</td>\n",
              "      <td>1.48</td>\n",
              "      <td>10.0</td>\n",
              "    </tr>\n",
              "    <tr>\n",
              "      <th>1</th>\n",
              "      <td>145.00</td>\n",
              "      <td>1.7</td>\n",
              "      <td>19.0</td>\n",
              "      <td>1.13</td>\n",
              "      <td>17.0</td>\n",
              "    </tr>\n",
              "    <tr>\n",
              "      <th>2</th>\n",
              "      <td>0.00</td>\n",
              "      <td>0.2</td>\n",
              "      <td>4.0</td>\n",
              "      <td>1.00</td>\n",
              "      <td>0.0</td>\n",
              "    </tr>\n",
              "    <tr>\n",
              "      <th>3</th>\n",
              "      <td>430.00</td>\n",
              "      <td>0.4</td>\n",
              "      <td>6.0</td>\n",
              "      <td>1.04</td>\n",
              "      <td>6.0</td>\n",
              "    </tr>\n",
              "    <tr>\n",
              "      <th>4</th>\n",
              "      <td>7.30</td>\n",
              "      <td>1.2</td>\n",
              "      <td>57.0</td>\n",
              "      <td>1.28</td>\n",
              "      <td>44.0</td>\n",
              "    </tr>\n",
              "    <tr>\n",
              "      <th>...</th>\n",
              "      <td>...</td>\n",
              "      <td>...</td>\n",
              "      <td>...</td>\n",
              "      <td>...</td>\n",
              "      <td>...</td>\n",
              "    </tr>\n",
              "    <tr>\n",
              "      <th>3150</th>\n",
              "      <td>0.70</td>\n",
              "      <td>1.8</td>\n",
              "      <td>188.0</td>\n",
              "      <td>0.73</td>\n",
              "      <td>258.0</td>\n",
              "    </tr>\n",
              "    <tr>\n",
              "      <th>3151</th>\n",
              "      <td>0.30</td>\n",
              "      <td>3.1</td>\n",
              "      <td>151.0</td>\n",
              "      <td>1.40</td>\n",
              "      <td>108.0</td>\n",
              "    </tr>\n",
              "    <tr>\n",
              "      <th>3154</th>\n",
              "      <td>0.01</td>\n",
              "      <td>1.1</td>\n",
              "      <td>240.0</td>\n",
              "      <td>1.07</td>\n",
              "      <td>223.0</td>\n",
              "    </tr>\n",
              "    <tr>\n",
              "      <th>3158</th>\n",
              "      <td>5.80</td>\n",
              "      <td>1.7</td>\n",
              "      <td>86.0</td>\n",
              "      <td>0.91</td>\n",
              "      <td>95.0</td>\n",
              "    </tr>\n",
              "    <tr>\n",
              "      <th>3161</th>\n",
              "      <td>1.30</td>\n",
              "      <td>0.1</td>\n",
              "      <td>65.0</td>\n",
              "      <td>0.48</td>\n",
              "      <td>137.0</td>\n",
              "    </tr>\n",
              "  </tbody>\n",
              "</table>\n",
              "<p>891 rows × 5 columns</p>\n",
              "</div>"
            ],
            "text/plain": [
              "         TSH   T3    TT4   T4U    FTI\n",
              "0      30.00  0.6   15.0  1.48   10.0\n",
              "1     145.00  1.7   19.0  1.13   17.0\n",
              "2       0.00  0.2    4.0  1.00    0.0\n",
              "3     430.00  0.4    6.0  1.04    6.0\n",
              "4       7.30  1.2   57.0  1.28   44.0\n",
              "...      ...  ...    ...   ...    ...\n",
              "3150    0.70  1.8  188.0  0.73  258.0\n",
              "3151    0.30  3.1  151.0  1.40  108.0\n",
              "3154    0.01  1.1  240.0  1.07  223.0\n",
              "3158    5.80  1.7   86.0  0.91   95.0\n",
              "3161    1.30  0.1   65.0  0.48  137.0\n",
              "\n",
              "[891 rows x 5 columns]"
            ]
          },
          "metadata": {
            "tags": []
          },
          "execution_count": 18
        }
      ]
    },
    {
      "cell_type": "markdown",
      "metadata": {
        "id": "6eWKfU8umP0B"
      },
      "source": [
        "891 rows of data contain outliers."
      ]
    },
    {
      "cell_type": "code",
      "metadata": {
        "id": "aDP2IDROsgk2",
        "outputId": "659abffd-0202-41ef-f255-5ab1471c8114",
        "colab": {
          "base_uri": "https://localhost:8080/",
          "height": 69
        }
      },
      "source": [
        "# Determine if outliers are related to the presence or absence of hypothyrodism\n",
        "outlier_index = numeric_thyroid[((numeric_thyroid <  Q1 - 1.5 * IQR) | (numeric_thyroid > Q3 + 1.5 * IQR)).any(axis=1)].index\n",
        "\n",
        "thyroid_data.iloc[outlier_index]['status'].value_counts(normalize=True) * 100"
      ],
      "execution_count": 19,
      "outputs": [
        {
          "output_type": "execute_result",
          "data": {
            "text/plain": [
              "0    83.164983\n",
              "1    16.835017\n",
              "Name: status, dtype: float64"
            ]
          },
          "metadata": {
            "tags": []
          },
          "execution_count": 19
        }
      ]
    },
    {
      "cell_type": "code",
      "metadata": {
        "id": "VOgr1av1vDMK",
        "outputId": "d76b8c1d-ceb8-4e06-c34c-14d99d7034c4",
        "colab": {
          "base_uri": "https://localhost:8080/",
          "height": 69
        }
      },
      "source": [
        "thyroid_data['status'].value_counts()"
      ],
      "execution_count": 20,
      "outputs": [
        {
          "output_type": "execute_result",
          "data": {
            "text/plain": [
              "0    3012\n",
              "1     151\n",
              "Name: status, dtype: int64"
            ]
          },
          "metadata": {
            "tags": []
          },
          "execution_count": 20
        }
      ]
    },
    {
      "cell_type": "code",
      "metadata": {
        "id": "h5IwerYauti4",
        "outputId": "0e4dce92-c503-47cb-a310-ce92cb165dcb",
        "colab": {
          "base_uri": "https://localhost:8080/",
          "height": 69
        }
      },
      "source": [
        "thyroid_data.iloc[outlier_index]['status'].value_counts()"
      ],
      "execution_count": 21,
      "outputs": [
        {
          "output_type": "execute_result",
          "data": {
            "text/plain": [
              "0    741\n",
              "1    150\n",
              "Name: status, dtype: int64"
            ]
          },
          "metadata": {
            "tags": []
          },
          "execution_count": 21
        }
      ]
    },
    {
      "cell_type": "markdown",
      "metadata": {
        "id": "TAOY-ogitak9"
      },
      "source": [
        "83% of data points considered outliers have a negative status while 16% have  hypothroid. However almost examples in our data that have a hypothyroid status are considered outliers! This clearly demonstrates a relation, thus retain all outliers."
      ]
    },
    {
      "cell_type": "markdown",
      "metadata": {
        "id": "3E2mMDu_nEZS"
      },
      "source": [
        "### Data Modelling"
      ]
    },
    {
      "cell_type": "markdown",
      "metadata": {
        "id": "nfp-o1KKoXjy"
      },
      "source": [
        "#### Decision Trees"
      ]
    },
    {
      "cell_type": "code",
      "metadata": {
        "id": "DnWduXcWkfmC"
      },
      "source": [
        "# import Libraries\n",
        "from sklearn.tree import DecisionTreeClassifier\n",
        "from sklearn.ensemble import RandomForestClassifier, AdaBoostClassifier, GradientBoostingClassifier\n",
        "from sklearn.metrics import confusion_matrix, classification_report, roc_auc_score, roc_curve"
      ],
      "execution_count": 22,
      "outputs": []
    },
    {
      "cell_type": "code",
      "metadata": {
        "id": "9FlnVmrro_df",
        "outputId": "b8aeaa71-fd46-493a-efa5-3e4f6e5d8e68",
        "colab": {
          "base_uri": "https://localhost:8080/",
          "height": 69
        }
      },
      "source": [
        "# Split data into train and test sets\n",
        "X = thyroid_data.drop('status', axis=1)\n",
        "Y = thyroid_data['status']\n",
        "\n",
        "# Determine distribution of target variable\n",
        "thyroid_data['status'].value_counts(normalize=True) * 100"
      ],
      "execution_count": 23,
      "outputs": [
        {
          "output_type": "execute_result",
          "data": {
            "text/plain": [
              "0    95.226051\n",
              "1     4.773949\n",
              "Name: status, dtype: float64"
            ]
          },
          "metadata": {
            "tags": []
          },
          "execution_count": 23
        }
      ]
    },
    {
      "cell_type": "code",
      "metadata": {
        "id": "qpg4hAZGpkKP"
      },
      "source": [
        "# Stratify y\n",
        "x_train, x_test, y_train, y_test = train_test_split(X, Y, test_size=.3, random_state=23, stratify = Y)"
      ],
      "execution_count": 24,
      "outputs": []
    },
    {
      "cell_type": "code",
      "metadata": {
        "id": "FEroQH-uwN0K",
        "outputId": "27124360-191c-4ae1-a600-999b4334350a",
        "colab": {
          "base_uri": "https://localhost:8080/",
          "height": 289
        }
      },
      "source": [
        "# Intialize and fit random forest model with base parameters\n",
        "random_classifier = RandomForestClassifier()\n",
        "random_classifier.fit(x_train, y_train)\n",
        "# Make predictions\n",
        "y_pred = random_classifier.predict(x_test)\n",
        "\n",
        "# Plot confusion matrix\n",
        "matrix = pd.DataFrame(confusion_matrix(y_test, y_pred), index=[0,1], columns=[0,1])\n",
        "sns.heatmap(matrix, annot=True)"
      ],
      "execution_count": 25,
      "outputs": [
        {
          "output_type": "execute_result",
          "data": {
            "text/plain": [
              "<matplotlib.axes._subplots.AxesSubplot at 0x7effe29ec240>"
            ]
          },
          "metadata": {
            "tags": []
          },
          "execution_count": 25
        },
        {
          "output_type": "display_data",
          "data": {
            "image/png": "[encoded data removed]",
            "text/plain": [
              "<Figure size 432x288 with 2 Axes>"
            ]
          },
          "metadata": {
            "tags": [],
            "needs_background": "light"
          }
        }
      ]
    },
    {
      "cell_type": "code",
      "metadata": {
        "id": "xoeBF-cTzdqW",
        "outputId": "1da7acde-b0f1-4d39-d921-29c6de73c53e",
        "colab": {
          "base_uri": "https://localhost:8080/",
          "height": 34
        }
      },
      "source": [
        "# Get probabilities for positive outcomes\n",
        "y_prob = random_classifier.predict_proba(x_test)[:, 1]\n",
        "\n",
        "# Get auc score\n",
        "print(f'ROC AUC Score: {roc_auc_score(y_test, y_prob)}')"
      ],
      "execution_count": 26,
      "outputs": [
        {
          "output_type": "stream",
          "text": [
            "ROC AUC Score: 0.9849065880039332\n"
          ],
          "name": "stdout"
        }
      ]
    },
    {
      "cell_type": "code",
      "metadata": {
        "id": "Ydqsq-MbJhqM",
        "outputId": "5c0a3d54-12ea-4e7c-83bd-b8f25531ad77",
        "colab": {
          "base_uri": "https://localhost:8080/",
          "height": 302
        }
      },
      "source": [
        "# Plot roc curve\n",
        "fpr, tpr, thresholds = roc_curve(y_test, y_prob)\n",
        "plt.plot(fpr, tpr)\n",
        "plt.xlabel('False positive rate')\n",
        "plt.ylabel('True Positive rate')"
      ],
      "execution_count": 27,
      "outputs": [
        {
          "output_type": "execute_result",
          "data": {
            "text/plain": [
              "Text(0, 0.5, 'True Positive rate')"
            ]
          },
          "metadata": {
            "tags": []
          },
          "execution_count": 27
        },
        {
          "output_type": "display_data",
          "data": {
            "image/png": "[encoded data removed]",
            "text/plain": [
              "<Figure size 432x288 with 1 Axes>"
            ]
          },
          "metadata": {
            "tags": [],
            "needs_background": "light"
          }
        }
      ]
    },
    {
      "cell_type": "code",
      "metadata": {
        "id": "1byzQ_BNKjAC",
        "outputId": "440d8f8a-4a44-4911-93f3-4363dd8a7352",
        "colab": {
          "base_uri": "https://localhost:8080/",
          "height": 285
        }
      },
      "source": [
        "# Intialize and fit adaboost model with a decision tree base model\n",
        "adaboost_classifier = AdaBoostClassifier(base_estimator=DecisionTreeClassifier())\n",
        "adaboost_classifier.fit(x_train, y_train)\n",
        "# Make predictions\n",
        "y_pred_ada = adaboost_classifier.predict(x_test)\n",
        "\n",
        "# Plot confusion matrix\n",
        "matrix_ada = pd.DataFrame(confusion_matrix(y_test, y_pred_ada), index=[0,1], columns=[0,1])\n",
        "sns.heatmap(matrix_ada, annot=True)"
      ],
      "execution_count": 28,
      "outputs": [
        {
          "output_type": "execute_result",
          "data": {
            "text/plain": [
              "<matplotlib.axes._subplots.AxesSubplot at 0x7effe2535e48>"
            ]
          },
          "metadata": {
            "tags": []
          },
          "execution_count": 28
        },
        {
          "output_type": "display_data",
          "data": {
            "image/png": "[encoded data removed]",
            "text/plain": [
              "<Figure size 432x288 with 2 Axes>"
            ]
          },
          "metadata": {
            "tags": [],
            "needs_background": "light"
          }
        }
      ]
    },
    {
      "cell_type": "code",
      "metadata": {
        "id": "d3SUNsDIMkBF",
        "outputId": "15b53a9a-2347-42f0-f5af-745b7612790d",
        "colab": {
          "base_uri": "https://localhost:8080/",
          "height": 34
        }
      },
      "source": [
        "# Get probabilities for positive outcomes\n",
        "y_prob_ada = adaboost_classifier.predict_proba(x_test)[:, 1]\n",
        "\n",
        "# Get auc score\n",
        "print(f'ROC AUC Score: {roc_auc_score(y_test, y_prob_ada)}')"
      ],
      "execution_count": 29,
      "outputs": [
        {
          "output_type": "stream",
          "text": [
            "ROC AUC Score: 0.9583579154375614\n"
          ],
          "name": "stdout"
        }
      ]
    },
    {
      "cell_type": "code",
      "metadata": {
        "id": "1xFqKcUjNEIR",
        "outputId": "56517896-672b-422f-cfc6-057f6918a54b",
        "colab": {
          "base_uri": "https://localhost:8080/",
          "height": 302
        }
      },
      "source": [
        "# Plot roc curve\n",
        "fpr, tpr, thresholds = roc_curve(y_test, y_prob_ada)\n",
        "plt.plot(fpr, tpr)\n",
        "plt.xlabel('False positive rate')\n",
        "plt.ylabel('True Positive rate')"
      ],
      "execution_count": 30,
      "outputs": [
        {
          "output_type": "execute_result",
          "data": {
            "text/plain": [
              "Text(0, 0.5, 'True Positive rate')"
            ]
          },
          "metadata": {
            "tags": []
          },
          "execution_count": 30
        },
        {
          "output_type": "display_data",
          "data": {
            "image/png": "[encoded data removed]",
            "text/plain": [
              "<Figure size 432x288 with 1 Axes>"
            ]
          },
          "metadata": {
            "tags": [],
            "needs_background": "light"
          }
        }
      ]
    },
    {
      "cell_type": "code",
      "metadata": {
        "id": "7u4Yls4DNLY-",
        "outputId": "cf47ea60-bd66-47b1-c7b4-c7e80fdbb78e",
        "colab": {
          "base_uri": "https://localhost:8080/",
          "height": 289
        }
      },
      "source": [
        "# Intialize and fit gradient boost classifier\n",
        "gb_classifier = GradientBoostingClassifier()\n",
        "gb_classifier.fit(x_train, y_train)\n",
        "# Make predictions\n",
        "y_pred_gb = gb_classifier.predict(x_test)\n",
        "\n",
        "# Plot confusion matrix\n",
        "matrix_gb = pd.DataFrame(confusion_matrix(y_test, y_pred_gb), index=[0,1], columns=[0,1])\n",
        "sns.heatmap(matrix_gb, annot=True)"
      ],
      "execution_count": 31,
      "outputs": [
        {
          "output_type": "execute_result",
          "data": {
            "text/plain": [
              "<matplotlib.axes._subplots.AxesSubplot at 0x7effe2a55390>"
            ]
          },
          "metadata": {
            "tags": []
          },
          "execution_count": 31
        },
        {
          "output_type": "display_data",
          "data": {
            "image/png": "[encoded data removed]",
            "text/plain": [
              "<Figure size 432x288 with 2 Axes>"
            ]
          },
          "metadata": {
            "tags": [],
            "needs_background": "light"
          }
        }
      ]
    },
    {
      "cell_type": "code",
      "metadata": {
        "id": "_YzfG3CHNv26",
        "outputId": "963352f1-dfbb-41a4-90d7-aaef886d670c",
        "colab": {
          "base_uri": "https://localhost:8080/",
          "height": 34
        }
      },
      "source": [
        "# Get probabilities for positive outcomes\n",
        "y_prob_gb = gb_classifier.predict_proba(x_test)[:, 1]\n",
        "\n",
        "# Get auc score\n",
        "print(f'ROC AUC Score: {roc_auc_score(y_test, y_prob_gb)}')"
      ],
      "execution_count": 32,
      "outputs": [
        {
          "output_type": "stream",
          "text": [
            "ROC AUC Score: 0.9768559488692231\n"
          ],
          "name": "stdout"
        }
      ]
    },
    {
      "cell_type": "code",
      "metadata": {
        "id": "e1eF50_qODDR",
        "outputId": "89a301d4-8847-44c9-8c2b-bb4f063b3d66",
        "colab": {
          "base_uri": "https://localhost:8080/",
          "height": 302
        }
      },
      "source": [
        "# Plot roc curve\n",
        "fpr, tpr, thresholds = roc_curve(y_test, y_prob_gb)\n",
        "plt.plot(fpr, tpr)\n",
        "plt.xlabel('False positive rate')\n",
        "plt.ylabel('True Positive rate')"
      ],
      "execution_count": 33,
      "outputs": [
        {
          "output_type": "execute_result",
          "data": {
            "text/plain": [
              "Text(0, 0.5, 'True Positive rate')"
            ]
          },
          "metadata": {
            "tags": []
          },
          "execution_count": 33
        },
        {
          "output_type": "display_data",
          "data": {
            "image/png": "[encoded data removed]",
            "text/plain": [
              "<Figure size 432x288 with 1 Axes>"
            ]
          },
          "metadata": {
            "tags": [],
            "needs_background": "light"
          }
        }
      ]
    },
    {
      "cell_type": "markdown",
      "metadata": {
        "id": "qIh5bzaoORDS"
      },
      "source": [
        "Among the 3 models tested, the random forest model has the best performance followed by gradient boosted and adaboost models."
      ]
    },
    {
      "cell_type": "markdown",
      "metadata": {
        "id": "c_x1O5_5PtmO"
      },
      "source": [
        "#### Hyperparameter Tuning"
      ]
    },
    {
      "cell_type": "code",
      "metadata": {
        "id": "UeISL-H0OOqU"
      },
      "source": [
        "from sklearn.model_selection import GridSearchCV"
      ],
      "execution_count": 34,
      "outputs": []
    },
    {
      "cell_type": "code",
      "metadata": {
        "id": "36FUkWdnQEk2"
      },
      "source": [
        "# Define parameter grid for parameter tuning\n",
        "param_grid_rand = {\n",
        "    'max_depth': np.arange(80, 200, 10),\n",
        "    'min_samples_leaf': [2,3],\n",
        "    'n_estimators': [100, 200, 300, 500, 800]\n",
        "}\n",
        "# Perform cross validation\n",
        "grid_search_rand = GridSearchCV(estimator = RandomForestClassifier(), param_grid = param_grid_rand, cv = 3, n_jobs = -1, verbose = 0, scoring='roc_auc')"
      ],
      "execution_count": 35,
      "outputs": []
    },
    {
      "cell_type": "code",
      "metadata": {
        "id": "d2igSxRyReq-",
        "outputId": "02aa61c7-6300-40ec-aaa1-f7694b4f0af6",
        "colab": {
          "base_uri": "https://localhost:8080/",
          "height": 34
        }
      },
      "source": [
        "# Get best parameters\n",
        "grid_search_rand.fit(x_train, y_train)\n",
        "grid_search_rand.best_params_\n"
      ],
      "execution_count": 36,
      "outputs": [
        {
          "output_type": "execute_result",
          "data": {
            "text/plain": [
              "{'max_depth': 160, 'min_samples_leaf': 2, 'n_estimators': 300}"
            ]
          },
          "metadata": {
            "tags": []
          },
          "execution_count": 36
        }
      ]
    },
    {
      "cell_type": "code",
      "metadata": {
        "id": "d8UxYXAdSXAY",
        "outputId": "3693c5a1-ba38-49df-d99f-fb28d9768720",
        "colab": {
          "base_uri": "https://localhost:8080/",
          "height": 34
        }
      },
      "source": [
        "# Get best score with tuning\n",
        "grid_search_rand.best_score_"
      ],
      "execution_count": 37,
      "outputs": [
        {
          "output_type": "execute_result",
          "data": {
            "text/plain": [
              "0.9956168456655786"
            ]
          },
          "metadata": {
            "tags": []
          },
          "execution_count": 37
        }
      ]
    },
    {
      "cell_type": "code",
      "metadata": {
        "id": "wLz8KOcfhD2E"
      },
      "source": [
        "# Tune adaboost model\n",
        "param_grid_ada = {\n",
        "    'learning_rate': np.arange(0.7, 1.0, 0.05),\n",
        "    'n_estimators': [50, 100, 200],\n",
        "    'base_estimator__max_depth': np.arange(80, 110, 10),\n",
        "    'base_estimator__min_samples_leaf': [2,3,4]\n",
        "}\n",
        "grid_search_ada = GridSearchCV(estimator = AdaBoostClassifier(base_estimator=DecisionTreeClassifier()), param_grid = param_grid_ada, cv = 3, n_jobs = -1, verbose = 0, scoring='roc_auc')"
      ],
      "execution_count": 38,
      "outputs": []
    },
    {
      "cell_type": "code",
      "metadata": {
        "id": "FmOjkVelhWCV",
        "outputId": "af853ca1-f700-40fc-a1fa-f08a988b5f0f",
        "colab": {
          "base_uri": "https://localhost:8080/",
          "height": 86
        }
      },
      "source": [
        "# Get best parameters\n",
        "grid_search_ada.fit(x_train, y_train)\n",
        "grid_search_ada.best_params_\n"
      ],
      "execution_count": 39,
      "outputs": [
        {
          "output_type": "execute_result",
          "data": {
            "text/plain": [
              "{'base_estimator__max_depth': 100,\n",
              " 'base_estimator__min_samples_leaf': 4,\n",
              " 'learning_rate': 1.0000000000000002,\n",
              " 'n_estimators': 200}"
            ]
          },
          "metadata": {
            "tags": []
          },
          "execution_count": 39
        }
      ]
    },
    {
      "cell_type": "code",
      "metadata": {
        "id": "XPv-ZBu3i7Vv",
        "outputId": "10242779-b4e2-4f2c-8b55-cb97d0a537e7",
        "colab": {
          "base_uri": "https://localhost:8080/",
          "height": 34
        }
      },
      "source": [
        "# Get best score afer tuning\n",
        "grid_search_ada.best_score_"
      ],
      "execution_count": 40,
      "outputs": [
        {
          "output_type": "execute_result",
          "data": {
            "text/plain": [
              "0.9953063285421959"
            ]
          },
          "metadata": {
            "tags": []
          },
          "execution_count": 40
        }
      ]
    },
    {
      "cell_type": "code",
      "metadata": {
        "id": "MPTw0xEDEaNr"
      },
      "source": [
        "# Fit random forest classifier and adaboost classifier with best parameters\n",
        "random_classifier = RandomForestClassifier(max_depth=160, min_samples_leaf=2, n_estimators=300)\n",
        "adaboost_classifier = AdaBoostClassifier(DecisionTreeClassifier(max_depth=80, min_samples_leaf=4),learning_rate=0.9500000000000002, n_estimators=200 )"
      ],
      "execution_count": 41,
      "outputs": []
    },
    {
      "cell_type": "code",
      "metadata": {
        "id": "7qhcNSrWFPwA",
        "outputId": "0c19a631-2929-45db-d472-cc78a726af44",
        "colab": {
          "base_uri": "https://localhost:8080/",
          "height": 312
        }
      },
      "source": [
        "random_classifier.fit(x_train, y_train)\n",
        "adaboost_classifier.fit(x_train, y_train)"
      ],
      "execution_count": 42,
      "outputs": [
        {
          "output_type": "execute_result",
          "data": {
            "text/plain": [
              "AdaBoostClassifier(algorithm='SAMME.R',\n",
              "                   base_estimator=DecisionTreeClassifier(ccp_alpha=0.0,\n",
              "                                                         class_weight=None,\n",
              "                                                         criterion='gini',\n",
              "                                                         max_depth=80,\n",
              "                                                         max_features=None,\n",
              "                                                         max_leaf_nodes=None,\n",
              "                                                         min_impurity_decrease=0.0,\n",
              "                                                         min_impurity_split=None,\n",
              "                                                         min_samples_leaf=4,\n",
              "                                                         min_samples_split=2,\n",
              "                                                         min_weight_fraction_leaf=0.0,\n",
              "                                                         presort='deprecated',\n",
              "                                                         random_state=None,\n",
              "                                                         splitter='best'),\n",
              "                   learning_rate=0.9500000000000002, n_estimators=200,\n",
              "                   random_state=None)"
            ]
          },
          "metadata": {
            "tags": []
          },
          "execution_count": 42
        }
      ]
    },
    {
      "cell_type": "code",
      "metadata": {
        "id": "1xVkig_bFfXC",
        "outputId": "99bd1024-4fb4-4d87-f416-97a53ec94dd6",
        "colab": {
          "base_uri": "https://localhost:8080/",
          "height": 628
        }
      },
      "source": [
        "# Rank feature importance\n",
        "importances = [round(x, 3) for x in random_classifier.feature_importances_]\n",
        "plt.figure(figsize=(12, 10))\n",
        "plt.barh(X.columns.to_list(), importances)\n",
        "plt.title('Feature Importances')\n"
      ],
      "execution_count": 43,
      "outputs": [
        {
          "output_type": "execute_result",
          "data": {
            "text/plain": [
              "Text(0.5, 1.0, 'Feature Importances')"
            ]
          },
          "metadata": {
            "tags": []
          },
          "execution_count": 43
        },
        {
          "output_type": "display_data",
          "data": {
            "image/png": "[encoded data removed]",
            "text/plain": [
              "<Figure size 864x720 with 1 Axes>"
            ]
          },
          "metadata": {
            "tags": [],
            "needs_background": "light"
          }
        }
      ]
    },
    {
      "cell_type": "code",
      "metadata": {
        "id": "65EhJHKXFsdY",
        "outputId": "82249825-ee2b-4f8b-e196-939fe9a95127",
        "colab": {
          "base_uri": "https://localhost:8080/",
          "height": 785
        }
      },
      "source": [
        "random_forest_features = pd.DataFrame({'Features': X.columns.to_list(), 'Importance': importances})\n",
        "random_forest_features.sort_values('Importance', ascending=False)"
      ],
      "execution_count": 44,
      "outputs": [
        {
          "output_type": "execute_result",
          "data": {
            "text/html": [
              "<div>\n",
              "<style scoped>\n",
              "    .dataframe tbody tr th:only-of-type {\n",
              "        vertical-align: middle;\n",
              "    }\n",
              "\n",
              "    .dataframe tbody tr th {\n",
              "        vertical-align: top;\n",
              "    }\n",
              "\n",
              "    .dataframe thead th {\n",
              "        text-align: right;\n",
              "    }\n",
              "</style>\n",
              "<table border=\"1\" class=\"dataframe\">\n",
              "  <thead>\n",
              "    <tr style=\"text-align: right;\">\n",
              "      <th></th>\n",
              "      <th>Features</th>\n",
              "      <th>Importance</th>\n",
              "    </tr>\n",
              "  </thead>\n",
              "  <tbody>\n",
              "    <tr>\n",
              "      <th>22</th>\n",
              "      <td>FTI</td>\n",
              "      <td>0.366</td>\n",
              "    </tr>\n",
              "    <tr>\n",
              "      <th>14</th>\n",
              "      <td>TSH</td>\n",
              "      <td>0.243</td>\n",
              "    </tr>\n",
              "    <tr>\n",
              "      <th>18</th>\n",
              "      <td>TT4</td>\n",
              "      <td>0.232</td>\n",
              "    </tr>\n",
              "    <tr>\n",
              "      <th>16</th>\n",
              "      <td>T3</td>\n",
              "      <td>0.062</td>\n",
              "    </tr>\n",
              "    <tr>\n",
              "      <th>20</th>\n",
              "      <td>T4U</td>\n",
              "      <td>0.036</td>\n",
              "    </tr>\n",
              "    <tr>\n",
              "      <th>0</th>\n",
              "      <td>age</td>\n",
              "      <td>0.029</td>\n",
              "    </tr>\n",
              "    <tr>\n",
              "      <th>13</th>\n",
              "      <td>TSH_measured</td>\n",
              "      <td>0.006</td>\n",
              "    </tr>\n",
              "    <tr>\n",
              "      <th>1</th>\n",
              "      <td>sex</td>\n",
              "      <td>0.004</td>\n",
              "    </tr>\n",
              "    <tr>\n",
              "      <th>6</th>\n",
              "      <td>query_hypothyroid</td>\n",
              "      <td>0.004</td>\n",
              "    </tr>\n",
              "    <tr>\n",
              "      <th>2</th>\n",
              "      <td>on_thyroxine</td>\n",
              "      <td>0.003</td>\n",
              "    </tr>\n",
              "    <tr>\n",
              "      <th>9</th>\n",
              "      <td>sick</td>\n",
              "      <td>0.003</td>\n",
              "    </tr>\n",
              "    <tr>\n",
              "      <th>15</th>\n",
              "      <td>T3_measured</td>\n",
              "      <td>0.002</td>\n",
              "    </tr>\n",
              "    <tr>\n",
              "      <th>12</th>\n",
              "      <td>goitre</td>\n",
              "      <td>0.002</td>\n",
              "    </tr>\n",
              "    <tr>\n",
              "      <th>5</th>\n",
              "      <td>thyroid_surgery</td>\n",
              "      <td>0.002</td>\n",
              "    </tr>\n",
              "    <tr>\n",
              "      <th>4</th>\n",
              "      <td>on_antithyroid_medication</td>\n",
              "      <td>0.002</td>\n",
              "    </tr>\n",
              "    <tr>\n",
              "      <th>7</th>\n",
              "      <td>query_hyperthyroid</td>\n",
              "      <td>0.001</td>\n",
              "    </tr>\n",
              "    <tr>\n",
              "      <th>23</th>\n",
              "      <td>TBG_measured</td>\n",
              "      <td>0.001</td>\n",
              "    </tr>\n",
              "    <tr>\n",
              "      <th>11</th>\n",
              "      <td>lithium</td>\n",
              "      <td>0.000</td>\n",
              "    </tr>\n",
              "    <tr>\n",
              "      <th>10</th>\n",
              "      <td>tumor</td>\n",
              "      <td>0.000</td>\n",
              "    </tr>\n",
              "    <tr>\n",
              "      <th>8</th>\n",
              "      <td>pregnant</td>\n",
              "      <td>0.000</td>\n",
              "    </tr>\n",
              "    <tr>\n",
              "      <th>17</th>\n",
              "      <td>TT4_measured</td>\n",
              "      <td>0.000</td>\n",
              "    </tr>\n",
              "    <tr>\n",
              "      <th>19</th>\n",
              "      <td>T4U_measured</td>\n",
              "      <td>0.000</td>\n",
              "    </tr>\n",
              "    <tr>\n",
              "      <th>21</th>\n",
              "      <td>FTI_measured</td>\n",
              "      <td>0.000</td>\n",
              "    </tr>\n",
              "    <tr>\n",
              "      <th>3</th>\n",
              "      <td>query_on_thyroxine</td>\n",
              "      <td>0.000</td>\n",
              "    </tr>\n",
              "  </tbody>\n",
              "</table>\n",
              "</div>"
            ],
            "text/plain": [
              "                     Features  Importance\n",
              "22                        FTI       0.366\n",
              "14                        TSH       0.243\n",
              "18                        TT4       0.232\n",
              "16                         T3       0.062\n",
              "20                        T4U       0.036\n",
              "0                         age       0.029\n",
              "13               TSH_measured       0.006\n",
              "1                         sex       0.004\n",
              "6           query_hypothyroid       0.004\n",
              "2                on_thyroxine       0.003\n",
              "9                        sick       0.003\n",
              "15                T3_measured       0.002\n",
              "12                     goitre       0.002\n",
              "5             thyroid_surgery       0.002\n",
              "4   on_antithyroid_medication       0.002\n",
              "7          query_hyperthyroid       0.001\n",
              "23               TBG_measured       0.001\n",
              "11                    lithium       0.000\n",
              "10                      tumor       0.000\n",
              "8                    pregnant       0.000\n",
              "17               TT4_measured       0.000\n",
              "19               T4U_measured       0.000\n",
              "21               FTI_measured       0.000\n",
              "3          query_on_thyroxine       0.000"
            ]
          },
          "metadata": {
            "tags": []
          },
          "execution_count": 44
        }
      ]
    },
    {
      "cell_type": "markdown",
      "metadata": {
        "id": "Z-5dRxZHJV_v"
      },
      "source": [
        "The most features in classifying patients in accordance to the random forest classifier are\n",
        "- FTI\n",
        "- TSH\n",
        "- TT4\n",
        "- T3\n",
        "- T4U\n",
        "- age\n"
      ]
    },
    {
      "cell_type": "code",
      "metadata": {
        "id": "jjMzbrjxGLoV",
        "outputId": "ba3088b5-4369-4d66-871f-76597dda63ea",
        "colab": {
          "base_uri": "https://localhost:8080/",
          "height": 662
        }
      },
      "source": [
        "# Rank feature importance\n",
        "importances_ada = [round(x, 3) for x in adaboost_classifier.feature_importances_]\n",
        "plt.figure(figsize=(12, 10))\n",
        "plt.barh(X.columns.to_list(), importances_ada)\n",
        "plt.title('Feature Importances based Adaboost')\n"
      ],
      "execution_count": 45,
      "outputs": [
        {
          "output_type": "stream",
          "text": [
            "/usr/local/lib/python3.6/dist-packages/sklearn/tree/_classes.py:578: RuntimeWarning: invalid value encountered in true_divide\n",
            "  return self.tree_.compute_feature_importances()\n"
          ],
          "name": "stderr"
        },
        {
          "output_type": "execute_result",
          "data": {
            "text/plain": [
              "Text(0.5, 1.0, 'Feature Importances based Adaboost')"
            ]
          },
          "metadata": {
            "tags": []
          },
          "execution_count": 45
        },
        {
          "output_type": "display_data",
          "data": {
            "image/png": "[encoded data removed]",
            "text/plain": [
              "<Figure size 864x720 with 1 Axes>"
            ]
          },
          "metadata": {
            "tags": [],
            "needs_background": "light"
          }
        }
      ]
    },
    {
      "cell_type": "code",
      "metadata": {
        "id": "wzHkUl2TKUxi",
        "outputId": "e89cace8-d412-4cb7-839a-983a918317e0",
        "colab": {
          "base_uri": "https://localhost:8080/",
          "height": 785
        }
      },
      "source": [
        "adaboost_features = pd.DataFrame({'Features': X.columns.to_list(), 'Importance': importances_ada})\n",
        "adaboost_features.sort_values('Importance', ascending=False)"
      ],
      "execution_count": 46,
      "outputs": [
        {
          "output_type": "execute_result",
          "data": {
            "text/html": [
              "<div>\n",
              "<style scoped>\n",
              "    .dataframe tbody tr th:only-of-type {\n",
              "        vertical-align: middle;\n",
              "    }\n",
              "\n",
              "    .dataframe tbody tr th {\n",
              "        vertical-align: top;\n",
              "    }\n",
              "\n",
              "    .dataframe thead th {\n",
              "        text-align: right;\n",
              "    }\n",
              "</style>\n",
              "<table border=\"1\" class=\"dataframe\">\n",
              "  <thead>\n",
              "    <tr style=\"text-align: right;\">\n",
              "      <th></th>\n",
              "      <th>Features</th>\n",
              "      <th>Importance</th>\n",
              "    </tr>\n",
              "  </thead>\n",
              "  <tbody>\n",
              "    <tr>\n",
              "      <th>0</th>\n",
              "      <td>age</td>\n",
              "      <td>0.079</td>\n",
              "    </tr>\n",
              "    <tr>\n",
              "      <th>16</th>\n",
              "      <td>T3</td>\n",
              "      <td>0.064</td>\n",
              "    </tr>\n",
              "    <tr>\n",
              "      <th>18</th>\n",
              "      <td>TT4</td>\n",
              "      <td>0.034</td>\n",
              "    </tr>\n",
              "    <tr>\n",
              "      <th>6</th>\n",
              "      <td>query_hypothyroid</td>\n",
              "      <td>0.005</td>\n",
              "    </tr>\n",
              "    <tr>\n",
              "      <th>2</th>\n",
              "      <td>on_thyroxine</td>\n",
              "      <td>0.003</td>\n",
              "    </tr>\n",
              "    <tr>\n",
              "      <th>4</th>\n",
              "      <td>on_antithyroid_medication</td>\n",
              "      <td>0.001</td>\n",
              "    </tr>\n",
              "    <tr>\n",
              "      <th>13</th>\n",
              "      <td>TSH_measured</td>\n",
              "      <td>0.000</td>\n",
              "    </tr>\n",
              "    <tr>\n",
              "      <th>21</th>\n",
              "      <td>FTI_measured</td>\n",
              "      <td>0.000</td>\n",
              "    </tr>\n",
              "    <tr>\n",
              "      <th>19</th>\n",
              "      <td>T4U_measured</td>\n",
              "      <td>0.000</td>\n",
              "    </tr>\n",
              "    <tr>\n",
              "      <th>17</th>\n",
              "      <td>TT4_measured</td>\n",
              "      <td>0.000</td>\n",
              "    </tr>\n",
              "    <tr>\n",
              "      <th>15</th>\n",
              "      <td>T3_measured</td>\n",
              "      <td>0.000</td>\n",
              "    </tr>\n",
              "    <tr>\n",
              "      <th>11</th>\n",
              "      <td>lithium</td>\n",
              "      <td>0.000</td>\n",
              "    </tr>\n",
              "    <tr>\n",
              "      <th>12</th>\n",
              "      <td>goitre</td>\n",
              "      <td>0.000</td>\n",
              "    </tr>\n",
              "    <tr>\n",
              "      <th>10</th>\n",
              "      <td>tumor</td>\n",
              "      <td>0.000</td>\n",
              "    </tr>\n",
              "    <tr>\n",
              "      <th>9</th>\n",
              "      <td>sick</td>\n",
              "      <td>0.000</td>\n",
              "    </tr>\n",
              "    <tr>\n",
              "      <th>8</th>\n",
              "      <td>pregnant</td>\n",
              "      <td>0.000</td>\n",
              "    </tr>\n",
              "    <tr>\n",
              "      <th>7</th>\n",
              "      <td>query_hyperthyroid</td>\n",
              "      <td>0.000</td>\n",
              "    </tr>\n",
              "    <tr>\n",
              "      <th>3</th>\n",
              "      <td>query_on_thyroxine</td>\n",
              "      <td>0.000</td>\n",
              "    </tr>\n",
              "    <tr>\n",
              "      <th>23</th>\n",
              "      <td>TBG_measured</td>\n",
              "      <td>0.000</td>\n",
              "    </tr>\n",
              "    <tr>\n",
              "      <th>1</th>\n",
              "      <td>sex</td>\n",
              "      <td>NaN</td>\n",
              "    </tr>\n",
              "    <tr>\n",
              "      <th>5</th>\n",
              "      <td>thyroid_surgery</td>\n",
              "      <td>NaN</td>\n",
              "    </tr>\n",
              "    <tr>\n",
              "      <th>14</th>\n",
              "      <td>TSH</td>\n",
              "      <td>NaN</td>\n",
              "    </tr>\n",
              "    <tr>\n",
              "      <th>20</th>\n",
              "      <td>T4U</td>\n",
              "      <td>NaN</td>\n",
              "    </tr>\n",
              "    <tr>\n",
              "      <th>22</th>\n",
              "      <td>FTI</td>\n",
              "      <td>NaN</td>\n",
              "    </tr>\n",
              "  </tbody>\n",
              "</table>\n",
              "</div>"
            ],
            "text/plain": [
              "                     Features  Importance\n",
              "0                         age       0.079\n",
              "16                         T3       0.064\n",
              "18                        TT4       0.034\n",
              "6           query_hypothyroid       0.005\n",
              "2                on_thyroxine       0.003\n",
              "4   on_antithyroid_medication       0.001\n",
              "13               TSH_measured       0.000\n",
              "21               FTI_measured       0.000\n",
              "19               T4U_measured       0.000\n",
              "17               TT4_measured       0.000\n",
              "15                T3_measured       0.000\n",
              "11                    lithium       0.000\n",
              "12                     goitre       0.000\n",
              "10                      tumor       0.000\n",
              "9                        sick       0.000\n",
              "8                    pregnant       0.000\n",
              "7          query_hyperthyroid       0.000\n",
              "3          query_on_thyroxine       0.000\n",
              "23               TBG_measured       0.000\n",
              "1                         sex         NaN\n",
              "5             thyroid_surgery         NaN\n",
              "14                        TSH         NaN\n",
              "20                        T4U         NaN\n",
              "22                        FTI         NaN"
            ]
          },
          "metadata": {
            "tags": []
          },
          "execution_count": 46
        }
      ]
    },
    {
      "cell_type": "markdown",
      "metadata": {
        "id": "PjITyq3_MtQh"
      },
      "source": [
        "The most important features based on the adaboost classifier are:\n",
        "- T3\n",
        "- TT4\n",
        "- T4U\n",
        "- age\n",
        "- query_hypothyroid\n",
        "- on_thyroxine\n"
      ]
    },
    {
      "cell_type": "markdown",
      "metadata": {
        "id": "XYRbWTW5REz7"
      },
      "source": [
        "#### Support Vector Machines"
      ]
    },
    {
      "cell_type": "markdown",
      "metadata": {
        "id": "v9LULaoLU0eF"
      },
      "source": [
        "According to the tuned random forest and adaboost models, the best feature in classifying patients are: FTI, T3, TSH, TT4, T4U, age, sick and on_thyroxine. To train our svm model, fit it with these features as well as features selected via PCA."
      ]
    },
    {
      "cell_type": "code",
      "metadata": {
        "id": "l71G3LUkK6KM"
      },
      "source": [
        "from sklearn.svm import SVC\n",
        "from sklearn.decomposition import PCA\n",
        "from sklearn.preprocessing import StandardScaler"
      ],
      "execution_count": 47,
      "outputs": []
    },
    {
      "cell_type": "code",
      "metadata": {
        "id": "lex6MSzOTOz4"
      },
      "source": [
        "# Define features and target variable\n",
        "tree_features = thyroid_data[['FTI', 'T3', 'TSH', 'TT4', 'T4U', 'age', 'sick', 'on_thyroxine']]\n",
        "thyroid_pca = thyroid_data.drop('status', axis=1)\n",
        "Y = thyroid_data['status']"
      ],
      "execution_count": 48,
      "outputs": []
    },
    {
      "cell_type": "code",
      "metadata": {
        "id": "A_7GuNzZWqgR",
        "outputId": "5ca8d17a-1a41-4430-a96e-85a63a9bc219",
        "colab": {
          "base_uri": "https://localhost:8080/",
          "height": 502
        }
      },
      "source": [
        "# Apply pca\n",
        "pca = PCA().fit(thyroid_pca)\n",
        "\n",
        "# getting the explained variance ratio\n",
        "evr = pca.explained_variance_ratio_\n",
        "range_length = len(evr) + 1\n",
        "\n",
        "# plotting the explained variance ratio so we can determine how any principal components to keep\n",
        "plt.figure(figsize = (10, 8))\n",
        "plt.plot(__builtin__.range(1, range_length), evr.cumsum(), marker = 'x', linestyle = '--')\n",
        "plt.xlabel(\"Number of Components\")\n",
        "plt.ylabel(\"Cumulative Explained Variance\")\n",
        "plt.grid(True)\n",
        "plt.show()"
      ],
      "execution_count": 49,
      "outputs": [
        {
          "output_type": "display_data",
          "data": {
            "image/png": "[encoded data removed]",
            "text/plain": [
              "<Figure size 720x576 with 1 Axes>"
            ]
          },
          "metadata": {
            "tags": [],
            "needs_background": "light"
          }
        }
      ]
    },
    {
      "cell_type": "markdown",
      "metadata": {
        "id": "6LEA4ehGX62o"
      },
      "source": [
        "Approximately 4 features explain 95% of variance in our data."
      ]
    },
    {
      "cell_type": "code",
      "metadata": {
        "id": "-dRBlRJ0XxNg"
      },
      "source": [
        "# Reduce our feature set to components\n",
        "pca_x = PCA(n_components=4).fit_transform(thyroid_pca)"
      ],
      "execution_count": 50,
      "outputs": []
    },
    {
      "cell_type": "code",
      "metadata": {
        "id": "EDxon6ZOY24p"
      },
      "source": [
        "# Split our data into train and test sets\n",
        "x_train, x_test, y_train, y_test = train_test_split(pca_x, Y, test_size=.3, stratify=Y)\n",
        "x_train_tree, x_test_tree, y_train_tree, y_test_tree = train_test_split(tree_features, Y, test_size=.3, stratify=Y)"
      ],
      "execution_count": 51,
      "outputs": []
    },
    {
      "cell_type": "code",
      "metadata": {
        "id": "GkfVBVGfha3n"
      },
      "source": [
        "# Standard features\n",
        "scaler_tree = StandardScaler().fit(x_train_tree)\n",
        "x_train_tree = scaler_tree.transform(x_train_tree)\n",
        "x_test_tree = scaler_tree.transform(x_test_tree)\n",
        "\n",
        "scaler_pca = StandardScaler().fit(x_train)\n",
        "x_train = scaler_pca.transform(x_train)\n",
        "x_test = scaler_pca.transform(x_test)"
      ],
      "execution_count": 52,
      "outputs": []
    },
    {
      "cell_type": "markdown",
      "metadata": {
        "id": "FNrSGpiaZ99w"
      },
      "source": [
        "##### Fitting Model: Sigmoid Function"
      ]
    },
    {
      "cell_type": "code",
      "metadata": {
        "id": "OulmWt-8Zqku"
      },
      "source": [
        "# Build model with a sigmoid kernel \n",
        "svc_pca = SVC(kernel='sigmoid', probability=True).fit(x_train, y_train)\n",
        "svc_tree = SVC(kernel = 'sigmoid', probability=True).fit(x_train_tree, y_train_tree)"
      ],
      "execution_count": 53,
      "outputs": []
    },
    {
      "cell_type": "code",
      "metadata": {
        "id": "fv_fuNG0ayhM",
        "outputId": "3d0b4cd5-18b6-4878-aafa-f28668b08b53",
        "colab": {
          "base_uri": "https://localhost:8080/",
          "height": 52
        }
      },
      "source": [
        "# Get the roc_auc scoresl\n",
        "# Get probabilities for positive outcomes\n",
        "y_prob_pca = svc_pca.predict_proba(x_test)[:, 1]\n",
        "y_prob_tree = svc_tree.predict_proba(x_test_tree)[:, 1]\n",
        "\n",
        "\n",
        "# Get auc score\n",
        "print(f'ROC AUC Score with PCA reduced data: {roc_auc_score(y_test, y_prob_pca)}')\n",
        "print(f'ROC AUC Score with tree features: {roc_auc_score(y_test_tree, y_prob_tree)}')"
      ],
      "execution_count": 54,
      "outputs": [
        {
          "output_type": "stream",
          "text": [
            "ROC AUC Score with PCA reduced data: 0.9447640117994099\n",
            "ROC AUC Score with tree features: 0.9638888888888888\n"
          ],
          "name": "stdout"
        }
      ]
    },
    {
      "cell_type": "markdown",
      "metadata": {
        "id": "bnTn_c9IjNEg"
      },
      "source": [
        "Features selected by decison trees have better performance than the pca reduced data. However the support vector model perform extremely well and is almost at par with the tree models."
      ]
    },
    {
      "cell_type": "code",
      "metadata": {
        "id": "PffgxuNMcM47",
        "outputId": "fcbc771e-9204-4413-b1ea-d058e6678f4e",
        "colab": {
          "base_uri": "https://localhost:8080/",
          "height": 612
        }
      },
      "source": [
        "plt.figure(figsize=(12, 10))\n",
        "\n",
        "X1, X2 = np.meshgrid(np.arange(start = x_test_tree[:, 0].min() - 1, stop = x_test_tree[:, 0].max() + 1, step = 0.01),\n",
        "                     np.arange(start = x_test_tree[:, 1].min() - 1, stop = x_test_tree[:, 1].max() + 1, step = 0.01))\n",
        "Xpred = np.array([X1.ravel(), X2.ravel()] + [np.repeat(0, X1.ravel().size) for _ in __builtin__.range(6)]).T\n",
        "pred = svc_tree.predict(Xpred).reshape(X1.shape)   # is a matrix of 0's and 1's !\n",
        "plt.contourf(X1, X2, pred,\n",
        "             alpha = 0.75)"
      ],
      "execution_count": 55,
      "outputs": [
        {
          "output_type": "execute_result",
          "data": {
            "text/plain": [
              "<matplotlib.contour.QuadContourSet at 0x7effe18c1d30>"
            ]
          },
          "metadata": {
            "tags": []
          },
          "execution_count": 55
        },
        {
          "output_type": "display_data",
          "data": {
            "image/png": "[encoded data removed]",
            "text/plain": [
              "<Figure size 864x720 with 1 Axes>"
            ]
          },
          "metadata": {
            "tags": [],
            "needs_background": "light"
          }
        }
      ]
    },
    {
      "cell_type": "code",
      "metadata": {
        "id": "-vxienodkYD-",
        "outputId": "ce0beff6-d4ff-49a2-9c39-b45ca56d9c30",
        "colab": {
          "base_uri": "https://localhost:8080/",
          "height": 614
        }
      },
      "source": [
        "plt.figure(figsize=(12, 10))\n",
        "\n",
        "X1, X2 = np.meshgrid(np.arange(start = x_test[:, 0].min() - 1, stop = x_test[:, 0].max() + 1, step = 0.01),\n",
        "                     np.arange(start = x_test[:, 1].min() - 1, stop = x_test[:, 1].max() + 1, step = 0.01))\n",
        "Xpred = np.array([X1.ravel(), X2.ravel()] + [np.repeat(0, X1.ravel().size) for _ in __builtin__.range(2)]).T\n",
        "pred = svc_pca.predict(Xpred).reshape(X1.shape)   # is a matrix of 0's and 1's !\n",
        "plt.contourf(X1, X2, pred,\n",
        "             alpha = 0.75)"
      ],
      "execution_count": 56,
      "outputs": [
        {
          "output_type": "execute_result",
          "data": {
            "text/plain": [
              "<matplotlib.contour.QuadContourSet at 0x7effe28285f8>"
            ]
          },
          "metadata": {
            "tags": []
          },
          "execution_count": 56
        },
        {
          "output_type": "display_data",
          "data": {
            "image/png": "[encoded data removed]",
            "text/plain": [
              "<Figure size 864x720 with 1 Axes>"
            ]
          },
          "metadata": {
            "tags": [],
            "needs_background": "light"
          }
        }
      ]
    },
    {
      "cell_type": "markdown",
      "metadata": {
        "id": "_9CzmEhatdVz"
      },
      "source": [
        "The sigmoid kernel, distictly separates the tree feature data and performs moderately well on the pca data."
      ]
    },
    {
      "cell_type": "markdown",
      "metadata": {
        "id": "lqoLrpZGuMO7"
      },
      "source": [
        "##### Fitting Model: Polynomial Function"
      ]
    },
    {
      "cell_type": "code",
      "metadata": {
        "id": "qYp8rE6NozR5"
      },
      "source": [
        "# Build model with a polynomial kernel \n",
        "svc_pca = SVC(kernel='poly',degree=3,gamma='auto', probability=True).fit(x_train, y_train)\n",
        "svc_tree = SVC(kernel='poly',degree=3,gamma='auto', probability=True).fit(x_train_tree, y_train_tree)"
      ],
      "execution_count": 57,
      "outputs": []
    },
    {
      "cell_type": "code",
      "metadata": {
        "id": "k_xDdGsGuquu",
        "outputId": "d3cda1f2-e657-4c72-d927-c15cf1332d08",
        "colab": {
          "base_uri": "https://localhost:8080/",
          "height": 52
        }
      },
      "source": [
        "# Get the roc_auc scoresl\n",
        "# Get probabilities for positive outcomes\n",
        "y_prob_pca = svc_pca.predict_proba(x_test)[:, 1]\n",
        "y_prob_tree = svc_tree.predict_proba(x_test_tree)[:, 1]\n",
        "\n",
        "\n",
        "# Get auc score\n",
        "print(f'ROC AUC Score with PCA reduced data: {roc_auc_score(y_test, y_prob_pca)}')\n",
        "print(f'ROC AUC Score with tree features: {roc_auc_score(y_test_tree, y_prob_tree)}')"
      ],
      "execution_count": 58,
      "outputs": [
        {
          "output_type": "stream",
          "text": [
            "ROC AUC Score with PCA reduced data: 0.9923058013765977\n",
            "ROC AUC Score with tree features: 0.912733529990167\n"
          ],
          "name": "stdout"
        }
      ]
    },
    {
      "cell_type": "code",
      "metadata": {
        "id": "MMHqgUUnu24b",
        "outputId": "fa9d7cd3-4ce4-4cdf-bfd9-4af47c2d3161",
        "colab": {
          "base_uri": "https://localhost:8080/",
          "height": 612
        }
      },
      "source": [
        "plt.figure(figsize=(12, 10))\n",
        "\n",
        "X1, X2 = np.meshgrid(np.arange(start = x_test_tree[:, 0].min() - 1, stop = x_test_tree[:, 0].max() + 1, step = 0.01),\n",
        "                     np.arange(start = x_test_tree[:, 1].min() - 1, stop = x_test_tree[:, 1].max() + 1, step = 0.01))\n",
        "Xpred = np.array([X1.ravel(), X2.ravel()] + [np.repeat(0, X1.ravel().size) for _ in __builtin__.range(6)]).T\n",
        "pred = svc_tree.predict(Xpred).reshape(X1.shape)   # is a matrix of 0's and 1's !\n",
        "plt.contourf(X1, X2, pred,\n",
        "             alpha = 0.75)"
      ],
      "execution_count": 59,
      "outputs": [
        {
          "output_type": "execute_result",
          "data": {
            "text/plain": [
              "<matplotlib.contour.QuadContourSet at 0x7effe1f72470>"
            ]
          },
          "metadata": {
            "tags": []
          },
          "execution_count": 59
        },
        {
          "output_type": "display_data",
          "data": {
            "image/png": "[encoded data removed]",
            "text/plain": [
              "<Figure size 864x720 with 1 Axes>"
            ]
          },
          "metadata": {
            "tags": [],
            "needs_background": "light"
          }
        }
      ]
    },
    {
      "cell_type": "code",
      "metadata": {
        "id": "EqyhhU7Du_vW",
        "outputId": "2e6b77eb-850e-4137-fca4-7466c12ba723",
        "colab": {
          "base_uri": "https://localhost:8080/",
          "height": 614
        }
      },
      "source": [
        "plt.figure(figsize=(12, 10))\n",
        "\n",
        "X1, X2 = np.meshgrid(np.arange(start = x_test[:, 0].min() - 1, stop = x_test[:, 0].max() + 1, step = 0.01),\n",
        "                     np.arange(start = x_test[:, 1].min() - 1, stop = x_test[:, 1].max() + 1, step = 0.01))\n",
        "Xpred = np.array([X1.ravel(), X2.ravel()] + [np.repeat(0, X1.ravel().size) for _ in __builtin__.range(2)]).T\n",
        "pred = svc_pca.predict(Xpred).reshape(X1.shape)   # is a matrix of 0's and 1's !\n",
        "plt.contourf(X1, X2, pred,\n",
        "             alpha = 0.75)"
      ],
      "execution_count": 60,
      "outputs": [
        {
          "output_type": "execute_result",
          "data": {
            "text/plain": [
              "<matplotlib.contour.QuadContourSet at 0x7effe24b0b70>"
            ]
          },
          "metadata": {
            "tags": []
          },
          "execution_count": 60
        },
        {
          "output_type": "display_data",
          "data": {
            "image/png": "[encoded data removed]",
            "text/plain": [
              "<Figure size 864x720 with 1 Axes>"
            ]
          },
          "metadata": {
            "tags": [],
            "needs_background": "light"
          }
        }
      ]
    },
    {
      "cell_type": "markdown",
      "metadata": {
        "id": "aK-5L_FMwVIS"
      },
      "source": [
        "##### Fitting Model: RBF Function"
      ]
    },
    {
      "cell_type": "code",
      "metadata": {
        "id": "zmMcUD0t5F6z"
      },
      "source": [
        "# Build model with an rbf kernel \n",
        "svc_pca = SVC(kernel='rbf', probability=True).fit(x_train, y_train)\n",
        "svc_tree = SVC(kernel = 'rbf', probability=True).fit(x_train_tree, y_train_tree)"
      ],
      "execution_count": 61,
      "outputs": []
    },
    {
      "cell_type": "code",
      "metadata": {
        "id": "x7qb0mZH5GSH",
        "outputId": "a2c33622-e71b-447c-906f-00772ed8f825",
        "colab": {
          "base_uri": "https://localhost:8080/",
          "height": 52
        }
      },
      "source": [
        "# Get the roc_auc scoresl\n",
        "# Get probabilities for positive outcomes\n",
        "y_prob_pca = svc_pca.predict_proba(x_test)[:, 1]\n",
        "y_prob_tree = svc_tree.predict_proba(x_test_tree)[:, 1]\n",
        "\n",
        "\n",
        "# Get auc score\n",
        "print(f'ROC AUC Score with PCA reduced data: {roc_auc_score(y_test, y_prob_pca)}')\n",
        "print(f'ROC AUC Score with tree features: {roc_auc_score(y_test_tree, y_prob_tree)}')"
      ],
      "execution_count": 62,
      "outputs": [
        {
          "output_type": "stream",
          "text": [
            "ROC AUC Score with PCA reduced data: 0.9880039331366764\n",
            "ROC AUC Score with tree features: 0.9866764995083579\n"
          ],
          "name": "stdout"
        }
      ]
    },
    {
      "cell_type": "code",
      "metadata": {
        "id": "LUBWajlc5GgH",
        "outputId": "098d871e-005f-4331-8959-c85b2be0c288",
        "colab": {
          "base_uri": "https://localhost:8080/",
          "height": 612
        }
      },
      "source": [
        "plt.figure(figsize=(12, 10))\n",
        "\n",
        "X1, X2 = np.meshgrid(np.arange(start = x_test_tree[:, 0].min() - 1, stop = x_test_tree[:, 0].max() + 1, step = 0.01),\n",
        "                     np.arange(start = x_test_tree[:, 1].min() - 1, stop = x_test_tree[:, 1].max() + 1, step = 0.01))\n",
        "Xpred = np.array([X1.ravel(), X2.ravel()] + [np.repeat(0, X1.ravel().size) for _ in __builtin__.range(6)]).T\n",
        "pred = svc_tree.predict(Xpred).reshape(X1.shape)   # is a matrix of 0's and 1's !\n",
        "plt.contourf(X1, X2, pred,\n",
        "             alpha = 0.75)"
      ],
      "execution_count": 65,
      "outputs": [
        {
          "output_type": "execute_result",
          "data": {
            "text/plain": [
              "<matplotlib.contour.QuadContourSet at 0x7effe20ddb70>"
            ]
          },
          "metadata": {
            "tags": []
          },
          "execution_count": 65
        },
        {
          "output_type": "display_data",
          "data": {
            "image/png": "[encoded data removed]",
            "text/plain": [
              "<Figure size 864x720 with 1 Axes>"
            ]
          },
          "metadata": {
            "tags": [],
            "needs_background": "light"
          }
        }
      ]
    },
    {
      "cell_type": "code",
      "metadata": {
        "id": "-VndmH4uvIox",
        "outputId": "c3c367fc-6269-40a2-e591-f371b3ac157b",
        "colab": {
          "base_uri": "https://localhost:8080/",
          "height": 614
        }
      },
      "source": [
        "plt.figure(figsize=(12, 10))\n",
        "\n",
        "X1, X2 = np.meshgrid(np.arange(start = x_test[:, 0].min() - 1, stop = x_test[:, 0].max() + 1, step = 0.01),\n",
        "                     np.arange(start = x_test[:, 1].min() - 1, stop = x_test[:, 1].max() + 1, step = 0.01))\n",
        "Xpred = np.array([X1.ravel(), X2.ravel()] + [np.repeat(0, X1.ravel().size) for _ in __builtin__.range(2)]).T\n",
        "pred = svc_pca.predict(Xpred).reshape(X1.shape)   # is a matrix of 0's and 1's !\n",
        "plt.contourf(X1, X2, pred,\n",
        "             alpha = 0.75)"
      ],
      "execution_count": 64,
      "outputs": [
        {
          "output_type": "execute_result",
          "data": {
            "text/plain": [
              "<matplotlib.contour.QuadContourSet at 0x7effe2168080>"
            ]
          },
          "metadata": {
            "tags": []
          },
          "execution_count": 64
        },
        {
          "output_type": "display_data",
          "data": {
            "image/png": "[encoded data removed]",
            "text/plain": [
              "<Figure size 864x720 with 1 Axes>"
            ]
          },
          "metadata": {
            "tags": [],
            "needs_background": "light"
          }
        }
      ]
    },
    {
      "cell_type": "markdown",
      "metadata": {
        "id": "M7SUlZdu9FQe"
      },
      "source": [
        "The best performing kernel is the polynomial function kernel on the PCA reduced data. A close second being the rbf kernel on both the PCA reduced data and the tree selected features."
      ]
    },
    {
      "cell_type": "markdown",
      "metadata": {
        "id": "3I03XtlQ92EO"
      },
      "source": [
        "### Conclusion"
      ]
    },
    {
      "cell_type": "markdown",
      "metadata": {
        "id": "63Y-jcXx98Ef"
      },
      "source": [
        "After comparison between PCA reduced data and features selected using the Random Forest and Adaboost models, the PCA reduced data has better performance in the polynomial and rbf kernels. Random forest and adaboost models have relatively the same roc_auc score after hyperparameter tuning. ROC_AUC is a more appropriate metric for our data due to the high imbalance between classes in our target variable. To handle this stratified sampling is also applied during the train test split."
      ]
    },
    {
      "cell_type": "markdown",
      "metadata": {
        "id": "frytgZry_dgf"
      },
      "source": [
        "### Challenging the solution."
      ]
    },
    {
      "cell_type": "markdown",
      "metadata": {
        "id": "2mHg5RRE_lR5"
      },
      "source": [
        "#### a) Did we have the right question?\n",
        "Yes.\n",
        "\n",
        "#### b) Did we have the right data?\n",
        "Yes. The data available was suitable for analysis.\n",
        "\n",
        "#### c) What can be done to improve the solution?\n",
        "Tuning of the support vector machine with the polynomial kernel."
      ]
    },
    {
      "cell_type": "code",
      "metadata": {
        "id": "Mm4HsrWo5tMW"
      },
      "source": [
        ""
      ],
      "execution_count": 64,
      "outputs": []
    }
  ]
}